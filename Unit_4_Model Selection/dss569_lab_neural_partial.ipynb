{
  "nbformat": 4,
  "nbformat_minor": 0,
  "metadata": {
    "kernelspec": {
      "display_name": "Python 3",
      "language": "python",
      "name": "python3"
    },
    "language_info": {
      "codemirror_mode": {
        "name": "ipython",
        "version": 3
      },
      "file_extension": ".py",
      "mimetype": "text/x-python",
      "name": "python",
      "nbconvert_exporter": "python",
      "pygments_lexer": "ipython3",
      "version": "3.7.4"
    },
    "colab": {
      "name": "dss569_lab_neural_partial.ipynb",
      "provenance": [],
      "collapsed_sections": []
    }
  },
  "cells": [
    {
      "cell_type": "markdown",
      "metadata": {
        "id": "puQiJjcVQexD",
        "colab_type": "text"
      },
      "source": [
        "# Lab:  Model Order Selection for Neural Data\n",
        "\n",
        "Machine learning is a key tool for neuroscientists to understand how sensory and motor signals are encoded in the brain.  In addition to improving our scientific understanding of neural phenomena, understanding neural encoding is critical for brain machine interfaces.  In this lab, you will use model selection for performing some simple analysis on real neural signals.  \n",
        "\n",
        "Before doing this lab, you should review the ideas in the [polynomial model selection demo](./polyfit.ipynb).  In addition to the concepts in that demo, you will learn to:\n",
        "* Represent neural time-series data in arrays\n",
        "* Load data from a pickle file\n",
        "* Describe and fit memoryless linear models\n",
        "* Describe and fit linear time-series models with delays\n",
        "* Fit linear models with multiple target outputs\n",
        "* Select the optimal delay via cross-validation"
      ]
    },
    {
      "cell_type": "markdown",
      "metadata": {
        "id": "AFb0E6PEQexE",
        "colab_type": "text"
      },
      "source": [
        "## Loading the data\n",
        "\n",
        "The data in this lab comes from neural recordings described in:\n",
        "\n",
        "<a href=\"http://jn.physiology.org/content/106/2/764.short\">\n",
        "Stevenson, Ian H., et al. \"Statistical assessment of the stability of neural movement representations.\" Journal of neurophysiology 106.2 (2011): 764-774</a>\n",
        "\n",
        "Neurons are the basic information processing units in the brain.  Neurons communicate with one another via *spikes* or *action potentials* which are brief events where voltage in the neuron rapidly rises then falls.  These spikes trigger the electro-chemical signals between one neuron and another.  In this experiment, the spikes were recorded from 196 neurons in the primary motor cortex (M1) of a monkey using an electrode array implanted onto the surface of a monkey's brain.  During the recording, the monkey performed several reaching tasks and the position and velocity of the hand was recorded as well.  \n",
        "\n",
        "The goal of the experiment is to try to *read the monkey's brain*:  That is, predict the hand motion from the neural signals from the motor cortex.\n",
        "\n",
        "We first load the key packages."
      ]
    },
    {
      "cell_type": "code",
      "metadata": {
        "id": "xI_vQMDyQexF",
        "colab_type": "code",
        "colab": {}
      },
      "source": [
        "import numpy as np\n",
        "import numpy.polynomial.polynomial as poly\n",
        "\n",
        "import matplotlib.pyplot as plt\n",
        "import pickle\n",
        "\n",
        "from sklearn.linear_model import LinearRegression\n",
        "from sklearn.metrics import r2_score\n",
        "from sklearn import linear_model"
      ],
      "execution_count": 1,
      "outputs": []
    },
    {
      "cell_type": "markdown",
      "metadata": {
        "id": "WzZvykevQexL",
        "colab_type": "text"
      },
      "source": [
        "The full data is available on the CRCNS website  http://crcns.org/data-sets/movements/dream.  This website has a large number of great datasets and can be used for projects as well.  However, the raw data files can be quite large.  To make the lab easier, the [Kording lab](http://kordinglab.com/) at UPenn has put together an excellent [repository](https://github.com/KordingLab/Neural_Decoding) where they have created simple pre-processed versions of the data.  You can download the file `example_data_s1.pickle` from the [Dropbox link](https://www.dropbox.com/sh/n4924ipcfjqc0t6/AADOv9JYMUBK1tlg9P71gSSra/example_data_s1.pickle?dl=0).  Alternatively, you can directly run the following code.  This may take a little while to download since the file is 26 MB."
      ]
    },
    {
      "cell_type": "code",
      "metadata": {
        "id": "Xu9nX0sbQexM",
        "colab_type": "code",
        "colab": {
          "base_uri": "https://localhost:8080/",
          "height": 34
        },
        "outputId": "4348201a-7ef1-423a-e3fe-686ea4cc8d11"
      },
      "source": [
        "fn_src = 'https://www.dropbox.com/sh/n4924ipcfjqc0t6/AADOv9JYMUBK1tlg9P71gSSra/example_data_s1.pickle?dl=1'\n",
        "fn_dst = 'example_data_s1.pickle'\n",
        "\n",
        "import os\n",
        "from six.moves import urllib\n",
        "\n",
        "if os.path.isfile(fn_dst):\n",
        "    print('File %s is already downloaded' % fn_dst)\n",
        "else:        \n",
        "    urllib.request.urlretrieve(fn_src, fn_dst)"
      ],
      "execution_count": 2,
      "outputs": [
        {
          "output_type": "stream",
          "text": [
            "File example_data_s1.pickle is already downloaded\n"
          ],
          "name": "stdout"
        }
      ]
    },
    {
      "cell_type": "markdown",
      "metadata": {
        "id": "8Gv-SAMYQexQ",
        "colab_type": "text"
      },
      "source": [
        "The file is a *pickle* data structure, which is a package to serialize python objects into data files.  Once you have downloaded the file, you can run the following command to retrieve the data from the pickle file."
      ]
    },
    {
      "cell_type": "code",
      "metadata": {
        "id": "8ZiwcLnxQexR",
        "colab_type": "code",
        "colab": {}
      },
      "source": [
        "with open('example_data_s1.pickle', 'rb') as fp:\n",
        "    x,y = pickle.load(fp)"
      ],
      "execution_count": 3,
      "outputs": []
    },
    {
      "cell_type": "markdown",
      "metadata": {
        "id": "acgg3tYOQexT",
        "colab_type": "text"
      },
      "source": [
        "The matrix `X` is matrix of spike counts where `X[i,j]` is the number of spikes from neuron `j` in time bin `i`.\n",
        "The matrix `y` has two columns:\n",
        "* `y[i,0] = ` velocity of the monkey's hand in the x-direction\n",
        "* `y[i,1] = ` velocity of the monkey's hand in the y-direction\n",
        "Our goal will be to predict `y` from `X`.  \n",
        "\n",
        "Each time bin represent `tsamp=0.05` seconds of time.  Using `X.shape` and `y.shape` compute and print:\n",
        "* `nt = ` the total number of time bins\n",
        "* `nneuron = ` the total number of neurons\n",
        "* `nout = ` the total number of output variables to track = number of columns in `y`\n",
        "* `ttotal = ` total time of the experiment is seconds. "
      ]
    },
    {
      "cell_type": "code",
      "metadata": {
        "id": "_PsVXZ04QexU",
        "colab_type": "code",
        "colab": {
          "base_uri": "https://localhost:8080/",
          "height": 85
        },
        "outputId": "779f6ea8-ac5a-4533-e617-7a7b39edf8c4"
      },
      "source": [
        "tsamp = 0.05  # sampling time in seconds\n",
        "# TODO\n",
        "nt = len(x[0])\n",
        "nneuron = len(x)\n",
        "nout = len(y[0])\n",
        "ttotal = nt*0.05\n",
        "print('nt = {}'.format(nt))\n",
        "print('nneuron = {}'.format(nneuron))\n",
        "print('nout = {}'.format(nout))\n",
        "print('ttotal = {} seconds'.format(ttotal))"
      ],
      "execution_count": 4,
      "outputs": [
        {
          "output_type": "stream",
          "text": [
            "nt = 52\n",
            "nneuron = 61339\n",
            "nout = 2\n",
            "ttotal = 2.6 seconds\n"
          ],
          "name": "stdout"
        }
      ]
    },
    {
      "cell_type": "markdown",
      "metadata": {
        "id": "SwslpPdrQexX",
        "colab_type": "text"
      },
      "source": [
        "## Fitting a Memoryless Linear Model\n",
        "\n",
        "Let's first try a simple linear regression model to fit the data.\n",
        "\n",
        "First, use the `train_test_split` function to split the data into training and test.  Let `Xtr,ytr` be the training data set and `Xts,yts` be the test data set.  Use `test_size=0.33` so `1/3` of the data is used for test."
      ]
    },
    {
      "cell_type": "code",
      "metadata": {
        "id": "B0O-dXCvQexX",
        "colab_type": "code",
        "colab": {}
      },
      "source": [
        "from sklearn.model_selection import train_test_split\n",
        "xtr,xts,ytr,yts = train_test_split(x, y, test_size=0.33)"
      ],
      "execution_count": 5,
      "outputs": []
    },
    {
      "cell_type": "markdown",
      "metadata": {
        "id": "T5B3l4R8QexZ",
        "colab_type": "text"
      },
      "source": [
        "Now, fit a linear model using `Xtr,ytr`.  Make a prediction  `yhat` using `Xts`.  Compare `yhat` to `yts` to measure `rsq`, the  `R^2`.  You can use the `r2_score` method. Print the `rsq` value.  You should get `rsq` of around `0.45`. "
      ]
    },
    {
      "cell_type": "code",
      "metadata": {
        "id": "5dcT1HyIQexZ",
        "colab_type": "code",
        "colab": {
          "base_uri": "https://localhost:8080/",
          "height": 68
        },
        "outputId": "797bf9a7-e3e9-45ab-ec3d-ea540512656e"
      },
      "source": [
        "regr = linear_model.LinearRegression()\n",
        "regr.fit(xtr, ytr)\n",
        "yts_hat = regr.predict(xts)\n",
        "RSS_ts = np.mean((yts_hat-yts)**2)/(np.std(yts)**2) #std ->std deviation.\n",
        "Rsq_ts = 1-RSS_ts\n",
        "print('Predicted values using training dataset --- ')\n",
        "print(\"RSS per sample = {0:f}\".format(RSS_ts))\n",
        "print(\"R^2 =            {0:f}\".format(Rsq_ts))\n",
        "\n",
        "ymin = yts.min()\n",
        "ymax = yts.max()\n",
        "ymin_pred = yts_hat.min()\n",
        "ymax_pred = yts_hat.max()\n",
        "\n",
        "###################################\n",
        "# print('\\nPredicted value using test dataset --- ')\n",
        "# regr.fit(xts, yts)\n",
        "# yts_hat = regr.predict(xts)\n",
        "# RSS_ts = np.mean((yts_hat-yts)**2)/(np.std(yts)**2) #std ->std deviation.\n",
        "# Rsq_ts = 1-RSS_ts\n",
        "# print(\"RSS per sample = {0:f}\".format(RSS_ts))\n",
        "# print(\"R^2 =            {0:f}\".format(Rsq_ts))"
      ],
      "execution_count": 6,
      "outputs": [
        {
          "output_type": "stream",
          "text": [
            "Predicted values using training dataset --- \n",
            "RSS per sample = 0.534085\n",
            "R^2 =            0.465915\n"
          ],
          "name": "stdout"
        }
      ]
    },
    {
      "cell_type": "markdown",
      "metadata": {
        "id": "yr46jbjaQexb",
        "colab_type": "text"
      },
      "source": [
        "It is useful to plot the predicted vs. true values.  Since we have two outputs, create two `subplots` using the `plt.subplot()` command.  In plot `i=0,1`, plot `yhat[:,i]` vs. `yts[:,i]` with a scatter plot.   Label the axes of the plots.  You may also use the command:\n",
        "\n",
        "    plt.figure(figsize=(10,5))\n",
        "    \n",
        "to make the figures a little larger."
      ]
    },
    {
      "cell_type": "code",
      "metadata": {
        "id": "0Lp0mbvQQexb",
        "colab_type": "code",
        "colab": {
          "base_uri": "https://localhost:8080/",
          "height": 455
        },
        "outputId": "5011a17b-a0d0-4d5d-a9b5-ef158eb02dee"
      },
      "source": [
        "# TODO\n",
        "plt.figure(figsize=(15,5))\n",
        "plt.subplot(1,2,1)\n",
        "plt.subplot(1,2,1).set_title(\"X-direction\")\n",
        "plt.plot(yts_hat[:,0], yts[:,0], 'o')\n",
        "plt.grid()\n",
        "plt.xlabel('predicted')\n",
        "plt.ylabel(\"actual\")\n",
        "\n",
        "plt.subplot(1,2,2)\n",
        "plt.subplot(1,2,2).set_title(\"Y-direction\")\n",
        "plt.plot(yts_hat[:,1], yts[:,1],'o')\n",
        "plt.grid()\n",
        "plt.xlabel(\"predicted\")\n",
        "plt.ylabel(\"actual\")"
      ],
      "execution_count": 8,
      "outputs": [
        {
          "output_type": "stream",
          "text": [
            "/usr/local/lib/python3.6/dist-packages/ipykernel_launcher.py:4: MatplotlibDeprecationWarning: Adding an axes using the same arguments as a previous axes currently reuses the earlier instance.  In a future version, a new instance will always be created and returned.  Meanwhile, this warning can be suppressed, and the future behavior ensured, by passing a unique label to each axes instance.\n",
            "  after removing the cwd from sys.path.\n",
            "/usr/local/lib/python3.6/dist-packages/ipykernel_launcher.py:11: MatplotlibDeprecationWarning: Adding an axes using the same arguments as a previous axes currently reuses the earlier instance.  In a future version, a new instance will always be created and returned.  Meanwhile, this warning can be suppressed, and the future behavior ensured, by passing a unique label to each axes instance.\n",
            "  # This is added back by InteractiveShellApp.init_path()\n"
          ],
          "name": "stderr"
        },
        {
          "output_type": "execute_result",
          "data": {
            "text/plain": [
              "Text(0, 0.5, 'actual')"
            ]
          },
          "metadata": {
            "tags": []
          },
          "execution_count": 8
        },
        {
          "output_type": "display_data",
          "data": {
            "image/png": "[encoded data removed]",
            "text/plain": [
              "<Figure size 1080x360 with 2 Axes>"
            ]
          },
          "metadata": {
            "tags": [],
            "needs_background": "light"
          }
        }
      ]
    },
    {
      "cell_type": "markdown",
      "metadata": {
        "id": "SA2rmdacQexd",
        "colab_type": "text"
      },
      "source": [
        "## Fitting Models with Delay\n",
        "\n",
        "One way we can improve the model accuracy is to used delayed version of the features.  Specifically, the model we used above mapped the features \n",
        "\n",
        "    yhat[i,k] = \\sum_{j=0}^{p-1} X[i,j]*w[j,k] + b[k]\n",
        "    \n",
        "where `p` is the number of features and `w[j,k]` is a matrix of coefficients.  In this model,  `yhat[i,:]` at time `i` was only dependent on the inputs  `X[i,:]` at time `i`.  In signal processing, this is called a *memoryless* model.  However, in many physical systems, such as those that arise in neuroscience, there is a delay between the inputs `X[i,:]` and the outputs `y[i]`.  For such cases, we can use a model of the form,\n",
        "\n",
        "    yhat[i+d,k] = \\sum_{j=0}^{p-1} \\sum_{m=0}^d X[i+m,j]*W[j,m,k] + b[k]\n",
        "    \n",
        "where `W` is a 3-dim array of coefficients where:\n",
        "\n",
        "    W[j,m,k] is the influence of the input X[i+m,j] onto output y[i+d,k]\n",
        "\n",
        "\n",
        "In signal processing, this model is called an *FIR* filter and `W[j,:,k]` is the *impulse response* from the `j`-th input to the `k`-th output.  The point is that the output at time `i+d` depends on the inputs at times `i,i+1,...,i+d`.  Hence, it depends on the last `d+1` time steps, not just the most recent time.\n",
        "\n",
        "To translate this into a linear regression problem, complete the following function that creates a new feature and target matrix where:\n",
        "\n",
        "    Xdly[i,:] has the rows X[i,:], X[i++1,:], ..., X[i+dly,:]\n",
        "    ydly[i,:] = y[i+dly,:]\n",
        "    \n",
        "Thus, `Xdly[i,:]` contains all the delayed fetaures for the target `yhat`.  Note that if `X` is `n x p` then `Xdly` will be `n-dly x (dly+1)*p`.  \n"
      ]
    },
    {
      "cell_type": "code",
      "metadata": {
        "id": "wY1VklV6Qexd",
        "colab_type": "code",
        "colab": {}
      },
      "source": [
        "def create_dly_data(x,y,dly):\n",
        "  ydly=np.zeros([len(y)-dly,2])\n",
        "  xdly=np.zeros([len(x)-dly,(dly+1)*len(x[0])])\n",
        "  for i in range(len(x)-dly):\n",
        "    count=0\n",
        "    for j in range(dly):\n",
        "      ydly[i,:]=y[i+j,:]\n",
        "      for k in range(52): \n",
        "        xdly[i,count]=x[i+j,k]\n",
        "        count+=1\n",
        "\n",
        "\n",
        "  return xdly, ydly"
      ],
      "execution_count": null,
      "outputs": []
    },
    {
      "cell_type": "markdown",
      "metadata": {
        "id": "epyBX0o2Qexf",
        "colab_type": "text"
      },
      "source": [
        "Now fit an linear delayed model with `dly=6` additional delay lags.  That is,\n",
        "* Create delayed data `Xdly,ydly=create_dly_data(X,y,dly=6)`\n",
        "* Split the data into training and test as before\n",
        "* Fit the model on the training data\n",
        "* Measure the `R^2` score on the test data\n",
        "\n",
        "If you did this correctly, you should get a new `R^2` score around 0.69.  This is significantly better than the memoryless models."
      ]
    },
    {
      "cell_type": "code",
      "metadata": {
        "id": "0MLq_04OQexf",
        "colab_type": "code",
        "colab": {}
      },
      "source": [
        "xdly, ydly = create_dly_data(x,y,dly=6)\n",
        "\n",
        "xdly_tr,xdly_ts,ydly_tr,ydly_ts = train_test_split(xdly, ydly, test_size=0.33) #Change values -> x, y\n",
        "\n",
        "regr.fit(xdly_tr, ydly_tr)\n",
        "ydlyts_hat = regr.predict(xdly_ts)\n",
        "Rsq_ts_dly = r2_score(ydly_ts, ydlyts_hat)\n",
        "print(\"R^2 =            {0:f}\".format(Rsq_ts_dly))\n",
        "\n",
        "##For the Graph\n",
        "ymin = ydly_ts.min()\n",
        "ymax = ydly_ts.max()\n",
        "ymin_pred = ydlyts_hat.min()\n",
        "ymax_pred = ydlyts_hat.max()"
      ],
      "execution_count": null,
      "outputs": []
    },
    {
      "cell_type": "code",
      "metadata": {
        "id": "pp_Jh2d7BH7-",
        "colab_type": "code",
        "colab": {}
      },
      "source": [
        "xdly.shape"
      ],
      "execution_count": null,
      "outputs": []
    },
    {
      "cell_type": "markdown",
      "metadata": {
        "id": "kdGyfeAKQexh",
        "colab_type": "text"
      },
      "source": [
        "Plot the predicted vs. true values as before. You should visually see a better fit."
      ]
    },
    {
      "cell_type": "code",
      "metadata": {
        "id": "7m6vWaCOQexh",
        "colab_type": "code",
        "colab": {
          "base_uri": "https://localhost:8080/",
          "height": 455
        },
        "outputId": "e8614fb4-26fa-4852-8b57-7c3cf703814e"
      },
      "source": [
        "plt.figure(figsize=(15,5))\n",
        "plt.subplot(1,2,1)\n",
        "plt.subplot(1,2,1).set_title(\"X-direction\")\n",
        "plt.plot(yts_hat[:,0], yts[:,0], 'o')\n",
        "plt.grid()\n",
        "plt.xlabel('predicted')\n",
        "plt.ylabel(\"actual\")\n",
        "\n",
        "plt.subplot(1,2,2)\n",
        "plt.subplot(1,2,2).set_title(\"Y-direction\")\n",
        "plt.plot(yts_hat[:,1], yts[:,1],'o')\n",
        "plt.grid()\n",
        "plt.xlabel(\"predicted\")\n",
        "plt.ylabel(\"actual\")"
      ],
      "execution_count": 9,
      "outputs": [
        {
          "output_type": "stream",
          "text": [
            "/usr/local/lib/python3.6/dist-packages/ipykernel_launcher.py:3: MatplotlibDeprecationWarning: Adding an axes using the same arguments as a previous axes currently reuses the earlier instance.  In a future version, a new instance will always be created and returned.  Meanwhile, this warning can be suppressed, and the future behavior ensured, by passing a unique label to each axes instance.\n",
            "  This is separate from the ipykernel package so we can avoid doing imports until\n",
            "/usr/local/lib/python3.6/dist-packages/ipykernel_launcher.py:10: MatplotlibDeprecationWarning: Adding an axes using the same arguments as a previous axes currently reuses the earlier instance.  In a future version, a new instance will always be created and returned.  Meanwhile, this warning can be suppressed, and the future behavior ensured, by passing a unique label to each axes instance.\n",
            "  # Remove the CWD from sys.path while we load stuff.\n"
          ],
          "name": "stderr"
        },
        {
          "output_type": "execute_result",
          "data": {
            "text/plain": [
              "Text(0, 0.5, 'actual')"
            ]
          },
          "metadata": {
            "tags": []
          },
          "execution_count": 9
        },
        {
          "output_type": "display_data",
          "data": {
            "image/png": "[encoded data removed]",
            "text/plain": [
              "<Figure size 1080x360 with 2 Axes>"
            ]
          },
          "metadata": {
            "tags": [],
            "needs_background": "light"
          }
        }
      ]
    },
    {
      "cell_type": "markdown",
      "metadata": {
        "id": "VmrdXk94Qexi",
        "colab_type": "text"
      },
      "source": [
        "*Note*:  Fitting an FIR model with the above method is very inefficient when the number of delays, `dly` is large.  In the above method, the number of columns of `X` grows from `p` to `(dly+1)*p` and the computations become expensive with `dly` is large.  We will describe a much faster way to fit such models using gradient descent when we talk about convolutional neural networks."
      ]
    },
    {
      "cell_type": "markdown",
      "metadata": {
        "id": "DKb4GYbLQexi",
        "colab_type": "text"
      },
      "source": [
        "## Selecting the Optimal Delay via Model Order Selection\n",
        "\n",
        "In the previous example, we fixed `dly=6`.  We can now select the optimal delay using model order selection.  Since we have a large number of data samples, it turns out that the optimal model order uses a very high delay.  Using the above fitting method, the computations take too long.  So, to simplify the lab, we will first just pretent that we have a very limited data set.\n",
        "\n",
        "Compute `Xred` and `yred` by taking the first `nred=6000` samples of the data `X` and `y`.  This is about 10% of the overall data."
      ]
    },
    {
      "cell_type": "code",
      "metadata": {
        "id": "gIctIilJQexj",
        "colab_type": "code",
        "colab": {}
      },
      "source": [
        "nred = 6000\n",
        "\n",
        "# TODO\n",
        "xred = x[0:6000,:]\n",
        "yred = y[0:6000,:]\n",
        "xred.shape"
      ],
      "execution_count": null,
      "outputs": []
    },
    {
      "cell_type": "markdown",
      "metadata": {
        "id": "lQTXOuycQexk",
        "colab_type": "text"
      },
      "source": [
        "Now complete the following code to implement K-fold cross validation with `nfold=5` and values of delays `dtest = [0,1,...,dmax]`.  \n",
        "\n",
        "The code also includes a progress bar using the `tqdm` package.  This is very useful when you have a long computation.\n",
        "\n",
        "Note:  Some students appeared to use the `mse` metric (i.e. RSS per sample) instead of `R^2`.  That is fine.  For the solution, I have computed both."
      ]
    },
    {
      "cell_type": "code",
      "metadata": {
        "id": "RU29dr9fQexk",
        "colab_type": "code",
        "colab": {}
      },
      "source": [
        "import  sklearn.model_selection \n",
        "import tqdm.notebook\n",
        "\n",
        "nfold = 5  # Number of folds\n",
        "dmax = 15  # maximum number of delays\n",
        "\n",
        "# TODO:  Create a k-fold object\n",
        "kf = sklearn.model_selection.KFold(n_splits=nfold,shuffle=True)\n",
        "\n",
        "# TODO:  Model orders to be tested\n",
        "dtest = np.arange(0,dmax)\n",
        "nd = len(dtest)\n",
        "\n",
        "# TODO.  \n",
        "# Initialize a matrix Rsq to hold values of the R^2 across the model orders and folds.\n",
        "# Alternatively, you can also create an RSS matrix\n",
        "Rsq = np.zeros((nd,nfold))\n",
        "\n",
        "# Create a progress bar.  Note there are nd*nfold total fits.\n",
        "pbar = tqdm.notebook.tqdm(\n",
        "    total=nfold*nd, initial=0,\n",
        "    unit='fits', unit_divisor=nd, desc='Model order test')\n",
        "\n",
        "\n",
        "for it, d in enumerate(dtest):\n",
        "    # TODO:  \n",
        "    # Create the delayed data using the create_dly_function from the reduced\n",
        "    # data Xred, yred\n",
        "    xdly, ydly = create_dly_data(xred,yred,d)    \n",
        "        \n",
        "    # Loop over the folds\n",
        "    for isplit, Ind in enumerate(kf.split(xdly)):\n",
        "\n",
        "        # Get the training data in the split\n",
        "        Itr, Its = Ind        \n",
        "\n",
        "        # TODO\n",
        "        # Split the data (Xdly,ydly) into training and test\n",
        "        xtr = xdly[Itr]\n",
        "        ytr = ydly[Itr]\n",
        "        xts = xdly[Its]\n",
        "        yts = ydly[Its]\n",
        "        \n",
        "        # TODO:  Fit data on training data       \n",
        "        regr = linear_model.LinearRegression()\n",
        "        regr.fit(xtr,ytr)\n",
        "        yhat = regr.predict(xts)\n",
        "        \n",
        "\n",
        "        # TODO:  Measure the R^2 vale on test data and store in the matrix Rsq\n",
        "        RSS_ts = np.mean((yts-yhat)**2)/(np.std(yts)**2)\n",
        "        rsq = 1-RSS_ts \n",
        "        Rsq[it,isplit] = rsq\n",
        "        \n",
        "        pbar.update(1)\n",
        "pbar.close()       "
      ],
      "execution_count": null,
      "outputs": []
    },
    {
      "cell_type": "markdown",
      "metadata": {
        "id": "8fxrCR7uQexm",
        "colab_type": "text"
      },
      "source": [
        "Compute the mean and standard error of the `R^2` values as a function of the model order `d`.  Use a `plt.errorbar` plot.  Label your axes."
      ]
    },
    {
      "cell_type": "code",
      "metadata": {
        "id": "_2ld6FM9Qexm",
        "colab_type": "code",
        "colab": {}
      },
      "source": [
        "# TODO\n",
        "Rsq_mean = np.mean(Rsq,axis=1) #note mean is taken over the second dimension, i.e. all folds for the same model order\n",
        "Rsq_std  = np.std(Rsq,axis=1)/np.sqrt(nfold-1)\n",
        "plt.errorbar(dtest, Rsq_mean, yerr=Rsq_std, fmt='-')\n",
        "plt.ylim(0,1.5)\n",
        "plt.xlabel('Model order')\n",
        "plt.ylabel('Test RSS')\n",
        "plt.grid()"
      ],
      "execution_count": null,
      "outputs": []
    },
    {
      "cell_type": "markdown",
      "metadata": {
        "id": "dbeNPxQNQexn",
        "colab_type": "text"
      },
      "source": [
        "Find the optimal order `d` with the normal rule (i.e. highest test `R^2`)"
      ]
    },
    {
      "cell_type": "code",
      "metadata": {
        "id": "tXXFRTqYQexo",
        "colab_type": "code",
        "colab": {}
      },
      "source": [
        "# TODO\n",
        "imin = np.argmax(Rsq_mean)\n",
        "print(\"Optimal model order is {0:d}\".format(dtest[imin]))"
      ],
      "execution_count": null,
      "outputs": []
    },
    {
      "cell_type": "markdown",
      "metadata": {
        "id": "s9fjNQljQexp",
        "colab_type": "text"
      },
      "source": [
        "Now find the optimal model order via the one SE rule (i.e. highest test `R^2` within on SE)"
      ]
    },
    {
      "cell_type": "code",
      "metadata": {
        "id": "_KB2CRnRQexp",
        "colab_type": "code",
        "colab": {}
      },
      "source": [
        "# TODO"
      ],
      "execution_count": null,
      "outputs": []
    },
    {
      "cell_type": "code",
      "metadata": {
        "id": "ArXnrCMpQexq",
        "colab_type": "code",
        "colab": {}
      },
      "source": [
        ""
      ],
      "execution_count": null,
      "outputs": []
    }
  ]
}