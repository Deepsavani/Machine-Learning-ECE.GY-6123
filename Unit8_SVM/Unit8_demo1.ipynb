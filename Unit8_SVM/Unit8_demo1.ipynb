{
  "nbformat": 4,
  "nbformat_minor": 0,
  "metadata": {
    "colab": {
      "name": "Unit8_demo1",
      "provenance": [],
      "collapsed_sections": []
    },
    "kernelspec": {
      "name": "python3",
      "display_name": "Python 3"
    }
  },
  "cells": [
    {
      "cell_type": "markdown",
      "metadata": {
        "id": "tx9FyU4wWs2L"
      },
      "source": [
        "**Demo: SVM for MNIST Digit Recognition**\n",
        "---\n",
        "Load data"
      ]
    },
    {
      "cell_type": "code",
      "metadata": {
        "id": "2GvZGXOgWqM2"
      },
      "source": [
        "import numpy as np\n",
        "import matplotlib\n",
        "import matplotlib.pyplot as plt"
      ],
      "execution_count": 28,
      "outputs": []
    },
    {
      "cell_type": "markdown",
      "metadata": {
        "id": "BpCfi8_jW77S"
      },
      "source": [
        "In the Tensorflow dataset, the training and test data are represented as arrays:\n",
        " \n",
        "  Xtr.shape = 60000 x 28 x 28\n",
        " \n",
        "  Xts.shape = 10000 x 28 x 28\n",
        "\n",
        "The test data consists of 60000 images of size 28 x 28 pixels; the test data consists of 10000 images."
      ]
    },
    {
      "cell_type": "code",
      "metadata": {
        "id": "UazDRsbIXCU1",
        "outputId": "849d69fb-1975-48c9-8550-a46a68baeb75",
        "colab": {
          "base_uri": "https://localhost:8080/"
        }
      },
      "source": [
        "import tensorflow as tf\n",
        "\n",
        "(Xtr,ytr),(Xts,yts) = tf.keras.datasets.mnist.load_data()\n",
        "\n",
        "print('Xtr shape: %s' % str(Xtr.shape))\n",
        "print('Xts shape: %s' % str(Xts.shape))\n",
        "\n",
        "ntr = Xtr.shape[0]\n",
        "nts = Xts.shape[0]\n",
        "nrow = Xtr.shape[1]\n",
        "ncol = Xtr.shape[2]"
      ],
      "execution_count": 2,
      "outputs": [
        {
          "output_type": "stream",
          "text": [
            "Xtr shape: (60000, 28, 28)\n",
            "Xts shape: (10000, 28, 28)\n"
          ],
          "name": "stdout"
        }
      ]
    },
    {
      "cell_type": "markdown",
      "metadata": {
        "id": "9HhkjWRIXRsE"
      },
      "source": [
        "Each pixel value is from [0,255]. For this lab, it will be convenient to recale the value to -1 to 1 and reshape it as a ntr x npix and nts x npix."
      ]
    },
    {
      "cell_type": "code",
      "metadata": {
        "id": "qvs2ktYjXUGz",
        "outputId": "92bdfdbe-055f-4cec-a76c-430ae09a5dea",
        "colab": {
          "base_uri": "https://localhost:8080/"
        }
      },
      "source": [
        "npix = nrow*ncol\n",
        "Xtr = 2*(Xtr/255 - 0.5)\n",
        "Xtr = Xtr.reshape((ntr,npix)) #Convert the 2d array into a 1D array -> 28x28 pixel size to 784\n",
        "\n",
        "Xts = 2*(Xts/255 - 0.5)\n",
        "Xts = Xts.reshape((nts,npix))\n",
        "\n",
        "Xtr.shape"
      ],
      "execution_count": 3,
      "outputs": [
        {
          "output_type": "execute_result",
          "data": {
            "text/plain": [
              "(60000, 784)"
            ]
          },
          "metadata": {
            "tags": []
          },
          "execution_count": 3
        }
      ]
    },
    {
      "cell_type": "markdown",
      "metadata": {
        "id": "TkiZ_K6XX2Bv"
      },
      "source": [
        "**Plot Images**"
      ]
    },
    {
      "cell_type": "code",
      "metadata": {
        "id": "DYlzuY_IXjfN",
        "outputId": "08ff4891-0bfe-4045-eb2a-0ee1483e5443",
        "colab": {
          "base_uri": "https://localhost:8080/",
          "height": 92
        }
      },
      "source": [
        "def plt_digit(ax, x):\n",
        "    nrow = 28\n",
        "    ncol = 28\n",
        "    xsq = x.reshape((nrow,ncol))\n",
        "    ax.imshow(xsq,  cmap='Greys_r')\n",
        "    ax.set_xticks([])\n",
        "    ax.set_yticks([])\n",
        "\n",
        "# Select random digits\n",
        "nplt = 8\n",
        "Iperm = np.random.permutation(ntr)\n",
        "\n",
        "# Plot the images using the subplot command\n",
        "fig, ax = plt.subplots(1,nplt,figsize=(10,3))\n",
        "for i in range(nplt):\n",
        "    ind = Iperm[i]\n",
        "    plt_digit(ax[i], Xtr[ind,:])"
      ],
      "execution_count": 4,
      "outputs": [
        {
          "output_type": "display_data",
          "data": {
            "image/png": "[encoded data removed]",
            "text/plain": [
              "<Figure size 720x216 with 8 Axes>"
            ]
          },
          "metadata": {
            "tags": []
          }
        }
      ]
    },
    {
      "cell_type": "markdown",
      "metadata": {
        "id": "nG6hd-5fZsey"
      },
      "source": [
        "**Trying a Logistic Regression Classifier**\n",
        "\n",
        "To classify the digits, we will first use a logistic classifier. We select a small number of samples for training. Generally, you would use more training samples, but the optimizer is very slow."
      ]
    },
    {
      "cell_type": "code",
      "metadata": {
        "id": "lQkH0F56Z1NN"
      },
      "source": [
        "ntr1 = 5000\n",
        "Xtr1 = Xtr[Iperm[:ntr1],:]\n",
        "ytr1 = ytr[Iperm[:ntr1]]"
      ],
      "execution_count": 5,
      "outputs": []
    },
    {
      "cell_type": "markdown",
      "metadata": {
        "id": "uRG4ygYqZ4t5"
      },
      "source": [
        "Now we run the optimizer. I have placed the verbose=10 option so that you can see the progress. It may not appear in the browser but in the command line where you launched jupyter notebook. This can take several minutes and will likely say that it ran out of iterations."
      ]
    },
    {
      "cell_type": "code",
      "metadata": {
        "id": "EMj3idSzZ5og",
        "outputId": "9bf70336-ee9c-49d3-c0c1-d9f0a9ebb7c6",
        "colab": {
          "base_uri": "https://localhost:8080/"
        }
      },
      "source": [
        "from sklearn import linear_model\n",
        "logreg = linear_model.LogisticRegression(verbose=10, solver='lbfgs',\\\n",
        "                                         max_iter=500)\n",
        "logreg.fit(Xtr1,ytr1)"
      ],
      "execution_count": 6,
      "outputs": [
        {
          "output_type": "stream",
          "text": [
            "[Parallel(n_jobs=1)]: Using backend SequentialBackend with 1 concurrent workers.\n",
            "/usr/local/lib/python3.6/dist-packages/sklearn/linear_model/_logistic.py:940: ConvergenceWarning: lbfgs failed to converge (status=1):\n",
            "STOP: TOTAL NO. of ITERATIONS REACHED LIMIT.\n",
            "\n",
            "Increase the number of iterations (max_iter) or scale the data as shown in:\n",
            "    https://scikit-learn.org/stable/modules/preprocessing.html\n",
            "Please also refer to the documentation for alternative solver options:\n",
            "    https://scikit-learn.org/stable/modules/linear_model.html#logistic-regression\n",
            "  extra_warning_msg=_LOGISTIC_SOLVER_CONVERGENCE_MSG)\n",
            "[Parallel(n_jobs=1)]: Done   1 out of   1 | elapsed:  1.3min remaining:    0.0s\n",
            "[Parallel(n_jobs=1)]: Done   1 out of   1 | elapsed:  1.3min finished\n"
          ],
          "name": "stderr"
        },
        {
          "output_type": "execute_result",
          "data": {
            "text/plain": [
              "LogisticRegression(C=1.0, class_weight=None, dual=False, fit_intercept=True,\n",
              "                   intercept_scaling=1, l1_ratio=None, max_iter=500,\n",
              "                   multi_class='auto', n_jobs=None, penalty='l2',\n",
              "                   random_state=None, solver='lbfgs', tol=0.0001, verbose=10,\n",
              "                   warm_start=False)"
            ]
          },
          "metadata": {
            "tags": []
          },
          "execution_count": 6
        }
      ]
    },
    {
      "cell_type": "markdown",
      "metadata": {
        "id": "qufit23Oexh2"
      },
      "source": [
        "since it takes so long to run the optimizer, let's save the results in a file. You can use pickle module for this purpose."
      ]
    },
    {
      "cell_type": "code",
      "metadata": {
        "id": "tzERHVgAeySf"
      },
      "source": [
        "import pickle\n",
        "\n",
        "with open( \"mnist_logreg.p\", \"wb\" ) as fp:\n",
        "    pickle.dump( [logreg, Xtr1, ytr1, Iperm],  fp)"
      ],
      "execution_count": 7,
      "outputs": []
    },
    {
      "cell_type": "markdown",
      "metadata": {
        "id": "6_M-YImOe-SC"
      },
      "source": [
        "we can recover the objects via the pickle.load command"
      ]
    },
    {
      "cell_type": "code",
      "metadata": {
        "id": "0jVcS8GwfL_u"
      },
      "source": [
        "with open( \"mnist_logreg.p\", \"rb\" ) as fp:\n",
        "    logreg, Xtr1, ytr1, Iperm = pickle.load(fp)"
      ],
      "execution_count": 8,
      "outputs": []
    },
    {
      "cell_type": "markdown",
      "metadata": {
        "id": "XDpA2niYfeAd"
      },
      "source": [
        " measure the accuracy on the test data"
      ]
    },
    {
      "cell_type": "code",
      "metadata": {
        "id": "1Ej55e8bffv1",
        "outputId": "af48867f-c381-4926-efd6-f9e0b5280710",
        "colab": {
          "base_uri": "https://localhost:8080/"
        }
      },
      "source": [
        "nts1 = 5000\n",
        "Iperm_ts = np.random.permutation(nts) \n",
        "Xts1 = Xts[Iperm_ts[:nts1],:]\n",
        "yts1 = yts[Iperm_ts[:nts1]]\n",
        "yhat = logreg.predict(Xts1)\n",
        "acc = np.mean(yhat == yts1)\n",
        "print('Accuaracy = {0:f}'.format(acc))"
      ],
      "execution_count": 9,
      "outputs": [
        {
          "output_type": "stream",
          "text": [
            "Accuaracy = 0.891400\n"
          ],
          "name": "stdout"
        }
      ]
    },
    {
      "cell_type": "markdown",
      "metadata": {
        "id": "Ki7jL4k7f8Yd"
      },
      "source": [
        "This is still a bad accuracy. Let's plot some of the errors."
      ]
    },
    {
      "cell_type": "code",
      "metadata": {
        "id": "I4XE7yC_g6g_",
        "outputId": "6bfc635c-76bc-4f3f-ed94-4b3a2276a352",
        "colab": {
          "base_uri": "https://localhost:8080/",
          "height": 170
        }
      },
      "source": [
        "nplt = 4\n",
        "Ierr = np.where(yts1 != yhat)[0]\n",
        "\n",
        "fig, ax = plt.subplots(1,nplt,figsize=(10, 4))\n",
        "for i in range(nplt):        \n",
        "    ind = Ierr[i]    \n",
        "    plt_digit(ax[i], Xts1[ind,:])        \n",
        "    title = 'true={0:d} est={1:d}'.format(yts1[ind].astype(int), yhat[ind].astype(int))\n",
        "    ax[i].set_title(title)"
      ],
      "execution_count": 10,
      "outputs": [
        {
          "output_type": "display_data",
          "data": {
            "image/png": "[encoded data removed]",
            "text/plain": [
              "<Figure size 720x288 with 4 Axes>"
            ]
          },
          "metadata": {
            "tags": []
          }
        }
      ]
    },
    {
      "cell_type": "markdown",
      "metadata": {
        "id": "lnfHVpWgksAV"
      },
      "source": [
        "Obviously, some of these digits are very easy to classify for a human. We can get more fine-grained analysis of the digit errors by computing the confusion matrix."
      ]
    },
    {
      "cell_type": "code",
      "metadata": {
        "id": "yo0MLF8LksqW",
        "outputId": "b8840244-b328-4dc5-c1ca-9f66a0d3b41e",
        "colab": {
          "base_uri": "https://localhost:8080/",
          "height": 444
        }
      },
      "source": [
        "from sklearn.metrics import confusion_matrix\n",
        "C = confusion_matrix(yts1,yhat)\n",
        "\n",
        "# Normalize the confusion matrix\n",
        "Csum = np.sum(C,1)\n",
        "C = C / Csum[None,:]\n",
        "\n",
        "# Print the confusion matrix\n",
        "print(np.array_str(C, precision=3, suppress_small=True))\n",
        "plt.imshow(C, interpolation='none')\n",
        "plt.colorbar()"
      ],
      "execution_count": 11,
      "outputs": [
        {
          "output_type": "stream",
          "text": [
            "[[0.939 0.    0.004 0.    0.004 0.025 0.011 0.004 0.006 0.01 ]\n",
            " [0.    0.968 0.004 0.006 0.    0.002 0.006 0.004 0.015 0.   ]\n",
            " [0.014 0.016 0.844 0.026 0.008 0.005 0.009 0.008 0.069 0.004]\n",
            " [0.008 0.    0.032 0.881 0.    0.036 0.002 0.017 0.029 0.006]\n",
            " [0.004 0.002 0.01  0.006 0.915 0.002 0.002 0.002 0.013 0.044]\n",
            " [0.012 0.002 0.002 0.043 0.006 0.833 0.015 0.01  0.042 0.016]\n",
            " [0.014 0.004 0.018 0.    0.014 0.023 0.919 0.002 0.002 0.002]\n",
            " [0.002 0.011 0.03  0.004 0.006 0.002 0.002 0.899 0.01  0.038]\n",
            " [0.01  0.007 0.02  0.017 0.012 0.05  0.011 0.008 0.846 0.018]\n",
            " [0.014 0.004 0.006 0.011 0.042 0.011 0.    0.036 0.019 0.855]]\n"
          ],
          "name": "stdout"
        },
        {
          "output_type": "execute_result",
          "data": {
            "text/plain": [
              "<matplotlib.colorbar.Colorbar at 0x7fd4f66d80f0>"
            ]
          },
          "metadata": {
            "tags": []
          },
          "execution_count": 11
        },
        {
          "output_type": "display_data",
          "data": {
            "image/png": "[encoded data removed]",
            "text/plain": [
              "<Figure size 432x288 with 2 Axes>"
            ]
          },
          "metadata": {
            "tags": [],
            "needs_background": "light"
          }
        }
      ]
    },
    {
      "cell_type": "markdown",
      "metadata": {
        "id": "wH9xXca_lMsM"
      },
      "source": [
        "**Visualizing the Weights**\n",
        "\n",
        "Plot weights "
      ]
    },
    {
      "cell_type": "code",
      "metadata": {
        "id": "VTl9xbSdlU6G",
        "outputId": "f4611c71-1d74-497b-b008-828b2174a51a",
        "colab": {
          "base_uri": "https://localhost:8080/",
          "height": 277
        }
      },
      "source": [
        "W = logreg.coef_\n",
        "ndigit = W.shape[0]\n",
        "fig, ax = plt.subplots(2,5,figsize=(10, 5))\n",
        "for i in range(ndigit):\n",
        "    irow = i // 5\n",
        "    icol = i % 5\n",
        "    plt_digit(ax[irow,icol], W[i,:])"
      ],
      "execution_count": 12,
      "outputs": [
        {
          "output_type": "display_data",
          "data": {
            "image/png": "[encoded data removed]",
            "text/plain": [
              "<Figure size 720x360 with 10 Axes>"
            ]
          },
          "metadata": {
            "tags": []
          }
        }
      ]
    },
    {
      "cell_type": "markdown",
      "metadata": {
        "id": "lo3iodDVDNy_"
      },
      "source": [
        "What you see is that each weight is a very blurry version of the digit. The blurriness is due to the fact that weight must correlate with all shifts, rotations and other variations of the digits. As a result, the weights begin to correlate with other incorrect digits leading to poor performance.\n",
        "\n",
        "To illustrate this problem more clearly, the code below does the following:\n",
        "\n",
        "\n",
        "\n",
        "1.   Take nplot=8 random training digits with the label 2 and nplot=8 that are not the digit 2.\n",
        "2.   Finds a weight w to the first of the digits with the label 2.\n",
        "3.   Plots the all the digits x and their correlation with the weight z = w.dot(x)\n",
        "\n",
        "We see that the correlation z is not consistently higher for the digits 2 instead of the non-digit 2. Therefore, if we try to use a linear classifier with this weight we would make a lot of errors."
      ]
    },
    {
      "cell_type": "code",
      "metadata": {
        "id": "sB-y3H6VEDYy",
        "outputId": "82a5eddc-b1f0-42f0-d780-da2378210444",
        "colab": {
          "base_uri": "https://localhost:8080/",
          "height": 323
        }
      },
      "source": [
        "# Find digits with 2 and digits that are not 2\n",
        "idig = 2\n",
        "Idig   = np.where(ytr==idig)[0]\n",
        "Inodig = np.where(ytr!=idig)[0]\n",
        "n = len(Idig)\n",
        "Idig = Idig[np.random.permutation(n)]\n",
        "n = len(Inodig)\n",
        "Inodig = Inodig[np.random.permutation(n)]\n",
        "\n",
        "# Set the weight to the first digit\n",
        "w = Xtr[Idig[0],:]\n",
        "w = w / np.sum(np.abs(w))\n",
        "\n",
        "# Find the correlation coefficient with the other digits 7\n",
        "nplot = 8\n",
        "fig, ax = plt.subplots(2,nplot,figsize=(12, 6))\n",
        "rho = np.zeros(nplot)\n",
        "for i in range(nplot):\n",
        "    # Get a true and false digit\n",
        "    j0 = Idig[i]\n",
        "    j1 = Inodig[i]\n",
        "    x0 = Xtr[j0,:]\n",
        "    x1 = Xtr[j1,:]\n",
        "    \n",
        "    # Compute the correlations with the two digits\n",
        "    rho0 = w.dot(x0)\n",
        "    rho1 = w.dot(x1)\n",
        "    \n",
        "    plt_digit(ax[0,i], x0)    \n",
        "    ax[0,i].set_title('%5.3f' % rho0)\n",
        "    plt_digit(ax[1,i], x1)\n",
        "    ax[1,i].set_title('%5.3f' % rho1)\n",
        "\n",
        "plt.tight_layout()"
      ],
      "execution_count": 13,
      "outputs": [
        {
          "output_type": "display_data",
          "data": {
            "image/png": "[encoded data removed]",
            "text/plain": [
              "<Figure size 864x432 with 16 Axes>"
            ]
          },
          "metadata": {
            "tags": []
          }
        }
      ]
    },
    {
      "cell_type": "markdown",
      "metadata": {
        "id": "jQDnN7PVEwMB"
      },
      "source": [
        "**LINEAR KERNAL**"
      ]
    },
    {
      "cell_type": "code",
      "metadata": {
        "id": "sJz5r-09E8Sn"
      },
      "source": [
        "from sklearn import svm\n",
        "\n",
        "# Create a classifier: a support vector classifier\n",
        "# svc = svm.SVC(probability=False,  kernel=\"rbf\", C=2.8, gamma=.0073,verbose=10)\n",
        "svc = svm.SVC(probability=False,  kernel=\"linear\", C=2.8, gamma=.0073,verbose=10)"
      ],
      "execution_count": 14,
      "outputs": []
    },
    {
      "cell_type": "markdown",
      "metadata": {
        "id": "dGxFbOL2FEgL"
      },
      "source": [
        "Next, we get the training and test data. The features are re-scaled to be between -1 and 1.\n",
        "\n",
        "We fit the training data. Again, this will take several minutes."
      ]
    },
    {
      "cell_type": "code",
      "metadata": {
        "id": "4XNCjvwgFGBf"
      },
      "source": [
        "ntr1 = 5000\n",
        "nts1 = 5000\n",
        "Xtr1 = Xtr[Iperm[:ntr1],:]\n",
        "ytr1 = ytr[Iperm[:ntr1]]\n",
        "Xts1 = Xts[Iperm_ts[:nts1],:]\n",
        "yts1 = yts[Iperm_ts[:nts1]]"
      ],
      "execution_count": 15,
      "outputs": []
    },
    {
      "cell_type": "code",
      "metadata": {
        "id": "c4Qhlqu2FKlM",
        "outputId": "d265d224-fe66-4289-928b-571de091099f",
        "colab": {
          "base_uri": "https://localhost:8080/"
        }
      },
      "source": [
        "svc.fit(Xtr,ytr)"
      ],
      "execution_count": 16,
      "outputs": [
        {
          "output_type": "stream",
          "text": [
            "[LibSVM]"
          ],
          "name": "stdout"
        },
        {
          "output_type": "execute_result",
          "data": {
            "text/plain": [
              "SVC(C=2.8, break_ties=False, cache_size=200, class_weight=None, coef0=0.0,\n",
              "    decision_function_shape='ovr', degree=3, gamma=0.0073, kernel='linear',\n",
              "    max_iter=-1, probability=False, random_state=None, shrinking=True,\n",
              "    tol=0.001, verbose=10)"
            ]
          },
          "metadata": {
            "tags": []
          },
          "execution_count": 16
        }
      ]
    },
    {
      "cell_type": "markdown",
      "metadata": {
        "id": "bkjuK-dQFNza"
      },
      "source": [
        "Saving our result "
      ]
    },
    {
      "cell_type": "code",
      "metadata": {
        "id": "Vum9NJIsFRgm"
      },
      "source": [
        "import pickle\n",
        "\n",
        "with open(\"mnist_svc.p\", \"wb\") as fp:\n",
        "  pickle.dump([svc, Xtr1, ytr1], fp)"
      ],
      "execution_count": 17,
      "outputs": []
    },
    {
      "cell_type": "markdown",
      "metadata": {
        "id": "fcRxb4qfFhu4"
      },
      "source": [
        "Reload the data "
      ]
    },
    {
      "cell_type": "code",
      "metadata": {
        "id": "EDfVXERwFlqk"
      },
      "source": [
        "# Can skip this step if you run the classifier directly\n",
        "import pickle\n",
        "with open( \"mnist_svc.p\", \"rb\" ) as fp:\n",
        "    svc, Xtr1,ytr1 = pickle.load(fp)"
      ],
      "execution_count": 18,
      "outputs": []
    },
    {
      "cell_type": "markdown",
      "metadata": {
        "id": "Lcn-pi8cFtHY"
      },
      "source": [
        "Measuring the accuracy on the test data"
      ]
    },
    {
      "cell_type": "code",
      "metadata": {
        "id": "lJIAMPUzFzLi"
      },
      "source": [
        "yhat_ts = svc.predict(Xts1)"
      ],
      "execution_count": 19,
      "outputs": []
    },
    {
      "cell_type": "markdown",
      "metadata": {
        "id": "R1dIWEJaF_wk"
      },
      "source": [
        "Save"
      ]
    },
    {
      "cell_type": "code",
      "metadata": {
        "id": "YAP0NDpfGBqb"
      },
      "source": [
        "with open(\"mnist_svc_test.p\", \"wb\") as fp:\n",
        "    pickle.dump([Xts1,yts1,yhat_ts], fp)"
      ],
      "execution_count": 20,
      "outputs": []
    },
    {
      "cell_type": "code",
      "metadata": {
        "id": "EwNtjopKGESy"
      },
      "source": [
        "with open(\"mnist_svc_test.p\", \"rb\") as fp:\n",
        "    Xts1,yts1,yhat_ts = pickle.load(fp)"
      ],
      "execution_count": 21,
      "outputs": []
    },
    {
      "cell_type": "code",
      "metadata": {
        "id": "r8OZWsKDGIQT",
        "outputId": "65c01cf1-8776-4e99-9f63-5d927a495568",
        "colab": {
          "base_uri": "https://localhost:8080/"
        }
      },
      "source": [
        "acc = np.mean(yhat_ts == yts1)\n",
        "print('Accuaracy = {0:f}'.format(acc))"
      ],
      "execution_count": 22,
      "outputs": [
        {
          "output_type": "stream",
          "text": [
            "Accuaracy = 0.932800\n"
          ],
          "name": "stdout"
        }
      ]
    },
    {
      "cell_type": "markdown",
      "metadata": {
        "id": "zOvPoFYFlgI3"
      },
      "source": [
        "**Support Vector**"
      ]
    },
    {
      "cell_type": "code",
      "metadata": {
        "id": "TS9VcIubljbz"
      },
      "source": [
        "S = svc.support_vectors_\n",
        "S.shape"
      ],
      "execution_count": null,
      "outputs": []
    },
    {
      "cell_type": "code",
      "metadata": {
        "id": "Hl0QM5CNlmVO"
      },
      "source": [
        "nplt = 4\n",
        "nsv = S.shape[0]\n",
        "Iperms = np.random.permutation(nsv)\n",
        "fig, ax = plt.subplots(1,nplt,figsize=(10, 4))\n",
        "for i in range(nplt):                \n",
        "    ind = Iperms[i]\n",
        "    plt_digit(ax[i], S[ind,:])"
      ],
      "execution_count": null,
      "outputs": []
    },
    {
      "cell_type": "markdown",
      "metadata": {
        "id": "aHGTayFblp9Y"
      },
      "source": [
        "**Performance of SVM using RBF kernal**"
      ]
    },
    {
      "cell_type": "code",
      "metadata": {
        "id": "GHWFvgEblu0E"
      },
      "source": [
        "# Create a classifier: a support vector classifier\n",
        "svcrbf = svm.SVC(probability=False,  kernel=\"rbf\", C=2.8, gamma=.0073,verbose=10)"
      ],
      "execution_count": null,
      "outputs": []
    },
    {
      "cell_type": "code",
      "metadata": {
        "id": "nnCYYqlOlz9c"
      },
      "source": [
        "# Can skip this step if loading from previous result \n",
        "svcrbf.fit(Xtr1,ytr1)\n",
        "import pickle\n",
        "with open( \"mnist_svcrbf.p\", \"wb\" ) as fp:\n",
        "    pickle.dump( [svcrbf, Xtr1, ytr1], fp)"
      ],
      "execution_count": null,
      "outputs": []
    },
    {
      "cell_type": "code",
      "metadata": {
        "id": "ewsNwcKul4-4"
      },
      "source": [
        "# Can skip if you run the previous cell\n",
        "import pickle\n",
        "with open( \"mnist_svcrbf.p\", \"rb\" ) as fp:\n",
        "    svcrbf, Xtr1, ytr1 = pickle.load(fp)"
      ],
      "execution_count": null,
      "outputs": []
    },
    {
      "cell_type": "markdown",
      "metadata": {
        "id": "hiTMHsQul7NF"
      },
      "source": [
        "Predict:"
      ]
    },
    {
      "cell_type": "code",
      "metadata": {
        "id": "tAAwi2Uxl8qg"
      },
      "source": [
        "yhat_ts = svcrbf.predict(Xts1)\n",
        "\n",
        "with open(\"mnist_svcrbf_test.p\", \"wb\") as fp:\n",
        "    pickle.dump([yhat_ts,yts1,Xts1], fp)\n",
        "\n",
        "\n",
        "with open(\"mnist_svcrbf_test.p\", \"rb\") as fp:\n",
        "    yhat_ts,yts1,Xts1 = pickle.load(fp)\n",
        "\n",
        "acc = np.mean(yhat_ts == yts1)\n",
        "print('Accuaracy = {0:f}'.format(acc))"
      ],
      "execution_count": null,
      "outputs": []
    },
    {
      "cell_type": "markdown",
      "metadata": {
        "id": "CPdm6jb5mLAf"
      },
      "source": [
        "We see that the RBF kernel provides more accurate results. Now let us plot some errors\n"
      ]
    },
    {
      "cell_type": "code",
      "metadata": {
        "id": "CI-qt-zKmLur"
      },
      "source": [
        "Ierr = np.where((yhat_ts != yts1))[0]\n",
        "nplt = 4\n",
        "fig, ax = plt.subplots(1,nplt,figsize=(10, 4))\n",
        "for i in range(nplt):             \n",
        "    ind = Ierr[i]    \n",
        "    plt_digit(ax[i], Xts1[ind,:])        \n",
        "    title = 'true={0:d} est={1:d}'.format(yts1[ind].astype(int), yhat_ts[ind].astype(int))\n",
        "    ax[i].set_title(title)"
      ],
      "execution_count": null,
      "outputs": []
    },
    {
      "cell_type": "markdown",
      "metadata": {
        "id": "5Us0FtXkmSa1"
      },
      "source": [
        "**Support vector**"
      ]
    },
    {
      "cell_type": "code",
      "metadata": {
        "id": "YteOvtr1mVIz"
      },
      "source": [
        "S = svcrbf.support_vectors_\n",
        "S.shape"
      ],
      "execution_count": null,
      "outputs": []
    },
    {
      "cell_type": "markdown",
      "metadata": {
        "id": "GDVu80g5mZSP"
      },
      "source": [
        "**Ploting some vectors**"
      ]
    },
    {
      "cell_type": "code",
      "metadata": {
        "id": "6mCiLc0hmb5Y"
      },
      "source": [
        "nplt = 4\n",
        "nsv = S.shape[0]\n",
        "Iperms = np.random.permutation(nsv)\n",
        "fig, ax = plt.subplots(1,nplt,figsize=(10, 4))\n",
        "for i in range(nplt):        \n",
        "    ind = Iperms[i]\n",
        "    plt_digit(ax[i], S[ind,:])"
      ],
      "execution_count": null,
      "outputs": []
    },
    {
      "cell_type": "markdown",
      "metadata": {
        "id": "l18cmuHSxgX4"
      },
      "source": [
        "**HW -- Don't run this**\n",
        "---\n"
      ]
    },
    {
      "cell_type": "code",
      "metadata": {
        "id": "viG4OS2Nxk_d",
        "outputId": "496f7228-98d5-415a-e054-d06911baf191",
        "colab": {
          "base_uri": "https://localhost:8080/",
          "height": 284
        }
      },
      "source": [
        "x = np.array([0,1.3,2.1,2.8,4.2,5.7]) \n",
        "y = np.array([-1, -1, -1, 1, -1, 1])\n",
        "num = np.linspace(0,6,100)\n",
        "J = np.zeros(len(num))\n",
        "i = 0\n",
        "min_val = np.zeros((len(num), len(num)))\n",
        "for tval in num:\n",
        "  z = x-tval\n",
        "  Jt = np.sum(np.maximum(0,1-y*z))\n",
        "  J[i] = Jt\n",
        "  min_val[i, 0] = Jt;\n",
        "  min_val[i, 1] = tval;\n",
        "  i = i+1\n",
        "plt.plot(tvals, J)\n"
      ],
      "execution_count": 71,
      "outputs": [
        {
          "output_type": "execute_result",
          "data": {
            "text/plain": [
              "[<matplotlib.lines.Line2D at 0x7fd4ee7271d0>]"
            ]
          },
          "metadata": {
            "tags": []
          },
          "execution_count": 71
        },
        {
          "output_type": "display_data",
          "data": {
            "image/png": "[encoded data removed]",
            "text/plain": [
              "<Figure size 432x288 with 1 Axes>"
            ]
          },
          "metadata": {
            "tags": [],
            "needs_background": "light"
          }
        }
      ]
    },
    {
      "cell_type": "code",
      "metadata": {
        "id": "3xzWtr_V5OPQ",
        "outputId": "bbef3997-1c66-4450-8879-9ae5244e41c6",
        "colab": {
          "base_uri": "https://localhost:8080/",
          "height": 351
        }
      },
      "source": [
        "x1 = np.array([0,1,2,3])\n",
        "y1 = np.array([1, -1, 1, -1])\n",
        "\n",
        "\n",
        "nx = 100\n",
        "x = np.linspace(-3,7,nx)\n",
        "gam = 3\n",
        "\n",
        "# Create the plots\n",
        "fig, ax = plt.subplots(1,2, figsize=(10,5))\n",
        "\n",
        "# Plot the decision function \n",
        "ax[0].plot(x1, y1, 'go', ms=10)\n",
        "z = np.zeros(nx)\n",
        "for i, xi in enumerate(x1):\n",
        "    keri = y1[i]*np.exp(-gam*(x-xi)**2)\n",
        "    z = z + keri\n",
        "    ax[0].plot(x,keri,'b--')\n",
        "ax[0].plot(x,z,'b-', lw=3)\n",
        "\n",
        "ax[0].set_xlim([-3,7])\n",
        "ax[0].grid()\n",
        "ax[0].set_title('Decision function')\n",
        "\n",
        "\n",
        "# Plot the decision function and yhat\n",
        "yhat = np.sign(z)\n",
        "ax[1].plot(x1, y1, 'go', ms=10)\n",
        "ax[1].plot(x,z,   'b-', lw=3)\n",
        "ax[1].plot(x,yhat,'g-', lw=2)\n",
        "ax[1].set_xlim([-3,7])\n",
        "ax[1].grid()\n",
        "ax[1].set_title('Classification')\n",
        "ax[1].legend(['Data', 'z', 'yhat'], loc='lower right')"
      ],
      "execution_count": 73,
      "outputs": [
        {
          "output_type": "execute_result",
          "data": {
            "text/plain": [
              "<matplotlib.legend.Legend at 0x7fd4f65764e0>"
            ]
          },
          "metadata": {
            "tags": []
          },
          "execution_count": 73
        },
        {
          "output_type": "display_data",
          "data": {
            "image/png": "[encoded data removed]",
            "text/plain": [
              "<Figure size 720x360 with 2 Axes>"
            ]
          },
          "metadata": {
            "tags": [],
            "needs_background": "light"
          }
        }
      ]
    },
    {
      "cell_type": "markdown",
      "metadata": {
        "id": "LgcLxQJeFPXT"
      },
      "source": [
        ""
      ]
    },
    {
      "cell_type": "code",
      "metadata": {
        "id": "U77AUJ9326sj"
      },
      "source": [
        "fig, ax = plt.subplots(1,nplot,figsize=(10,3))\n",
        "x1 = np.array([0,1,2,3])\n",
        "y1 = np.array([1, -1, 1, -1])\n",
        "a = np.array([0,0,1,1])\n",
        "for i, gam in enumerate(gam_plot):\n",
        "    # Fit the SVC\n",
        "    svc = SVC(C=1,kernel='rbf', alpha = a, gamma=gam)\n",
        "    svc.fit(x1[:,None],y1)\n",
        "    \n",
        "    # Compute decision function and yhat\n",
        "    z = svc.decision_function(xp[:,None])\n",
        "    yhat = np.sign(z)    \n",
        "    \n",
        "    # Plot\n",
        "    ax[i].plot(xtr, ytr,'go')    \n",
        "    ax[i].plot(xp, z, 'b-', lw=2)    \n",
        "    ax[i].plot(xp, yhat, 'g-', lw=2)\n",
        "    ax[i].grid()\n",
        "    ax[i].set_xlabel('x')\n",
        "    title = 'gamma = %5.1f' % gam\n",
        "    ax[i].set_title(title)\n",
        "    ax[i].set_xlim([-3,7])\n",
        "    \n",
        "fig.legend(['Data','z','yhat'], borderaxespad=0.1, loc='lower right',\n",
        "           bbox_to_anchor=(0, 0.2, 1, 0.8))\n",
        "plt.tight_layout()"
      ],
      "execution_count": null,
      "outputs": []
    }
  ]
}