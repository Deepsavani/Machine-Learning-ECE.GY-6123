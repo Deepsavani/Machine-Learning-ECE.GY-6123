{
  "nbformat": 4,
  "nbformat_minor": 0,
  "metadata": {
    "kernelspec": {
      "display_name": "Python 3",
      "language": "python",
      "name": "python3"
    },
    "language_info": {
      "codemirror_mode": {
        "name": "ipython",
        "version": 3
      },
      "file_extension": ".py",
      "mimetype": "text/x-python",
      "name": "python",
      "nbconvert_exporter": "python",
      "pygments_lexer": "ipython3",
      "version": "3.6.7"
    },
    "colab": {
      "name": "Modefied_lab_eeg_partial.ipynb",
      "provenance": [],
      "collapsed_sections": []
    }
  },
  "cells": [
    {
      "cell_type": "markdown",
      "metadata": {
        "id": "-hyKvvl4qaKC"
      },
      "source": [
        "# Lab:  Source Localization for EEG\n",
        "\n",
        "EEG or [Electroencephalography](https://en.wikipedia.org/wiki/Electroencephalography) is a powerful tool for neuroscientists in understanding brain activity.  In EEG, a patient wears a headset with electrodes that measures voltages at a number of points on the scalp.  These voltages arise from ionic currents within the brain.  A common *inverse problem* is to estimate the which parts of the brain caused the measured response.  Source localization is useful in understanding which parts of the brain are involved in certain tasks.  A key challenge in this inverse problem is that the number of unknowns (possible locations in the brain) is much larger than the number of measurements.  In this lab, we will use LASSO regression on a real EEG dataset to overcome this problem and determine the brain region that is active under an auditory stimulus.\n",
        "\n",
        "In addition to the concepts in the [prostate LASSO demo](./demo_prostate.ipynb) you will learn to:\n",
        "* Represent responses of multi-channel time-series data, such as EEG, using linear models\n",
        "* Perform LASSO and Ridge regression\n",
        "* Select the regularization level via cross-validation\n",
        "* Visually compare the sparsity between the solutions\n",
        "\n",
        "We first download standard packages."
      ]
    },
    {
      "cell_type": "code",
      "metadata": {
        "id": "JEMcrUUoqaKD"
      },
      "source": [
        "import numpy as np\n",
        "import matplotlib.pyplot as plt\n",
        "import pickle\n",
        "\n",
        "from sklearn.linear_model import Lasso, Ridge, ElasticNet\n",
        "from sklearn.metrics import r2_score\n",
        "from sklearn.model_selection import train_test_split"
      ],
      "execution_count": 1,
      "outputs": []
    },
    {
      "cell_type": "markdown",
      "metadata": {
        "id": "mPoii3SuqaKI"
      },
      "source": [
        "## Load the Data\n",
        "\n",
        "The data in this lab is taken from one of the sample datasets in the [MNE website](https://martinos.org/mne/stable/index.html). The sample data is a recording from one subject who experienced some auditory stimulus on the left ear.    \n",
        "\n",
        "The raw data is very large (`1.5G`) and also requires that you install the `mne` python package. To make this lab easier, I have extracted and processed a small section of the data. The following command will download a `pickle` file `eeg_dat.p` to your local machine.  If you do want to create the data yourself, the program to create the data is in this directory in the github repository."
      ]
    },
    {
      "cell_type": "code",
      "metadata": {
        "id": "r23s6j9lqaKJ",
        "outputId": "6021f8b7-3862-49a1-8af6-a308cd68698c",
        "colab": {
          "base_uri": "https://localhost:8080/",
          "height": 52
        }
      },
      "source": [
        "fn_src ='https://drive.google.com/uc?export=download&id=1RzQpKONOcXSMxH2ZzOI4iVMiTgD6ttSl'\n",
        "fn_dst ='eeg_dat.p'\n",
        "\n",
        "import os\n",
        "from six.moves import urllib\n",
        "\n",
        "if os.path.isfile(fn_dst):\n",
        "    print('File %s is already downloaded' % fn_dst)\n",
        "else:        \n",
        "    print('Fetching file %s [53MB].  This may take a minute..' % fn_dst)\n",
        "    urllib.request.urlretrieve(fn_src, fn_dst)\n",
        "    print('File %s downloaded' % fn_dst)"
      ],
      "execution_count": 2,
      "outputs": [
        {
          "output_type": "stream",
          "text": [
            "Fetching file eeg_dat.p [53MB].  This may take a minute..\n",
            "File eeg_dat.p downloaded\n"
          ],
          "name": "stdout"
        }
      ]
    },
    {
      "cell_type": "markdown",
      "metadata": {
        "id": "T7XMxq_xqaKM"
      },
      "source": [
        "Now run the following command which will get the data from the `pickle` file."
      ]
    },
    {
      "cell_type": "code",
      "metadata": {
        "id": "Sl2Wns1nqaKN"
      },
      "source": [
        "import pickle\n",
        "fn = 'eeg_dat.p'\n",
        "with open(fn, 'rb') as fp:\n",
        "    [X,Y] = pickle.load(fp)"
      ],
      "execution_count": 3,
      "outputs": []
    },
    {
      "cell_type": "markdown",
      "metadata": {
        "id": "Z25Nz6CXqaKP"
      },
      "source": [
        "To understand the data, there are three key variables:\n",
        "* `nt`    = number of time steps that we measure data\n",
        "* `nchan` = number of channels (i.e. electrodes) measured in each time step\n",
        "* `ncur`  = number of currents in the brain that we want to estimate.  \n",
        "\n",
        "Each current comes from one brain region (called a *voxel*) in either the `x`, `y` or `z` direction.  So,\n",
        "\n",
        "    nvoxels = ncur / 3\n",
        "    \n",
        "The components of the `X` and `Y` matrices are:\n",
        "*  `Y[i,k]` = electric field measurement on channel `i` at time `k`\n",
        "*  `X[i,j]` = sensitivity of channel `i` to current `j`.\n",
        "\n",
        "Using `X.shape` and `Y.shape` compute and print `nt`, `nchan`, `ncur` and `nvoxels`."
      ]
    },
    {
      "cell_type": "code",
      "metadata": {
        "id": "KQOoAnejqaKQ",
        "outputId": "31f19cc9-d88b-4190-9a7c-6b5c0001d05a",
        "colab": {
          "base_uri": "https://localhost:8080/",
          "height": 121
        }
      },
      "source": [
        "print('Xshape = {}'.format(X.shape))\n",
        "print('Yshape = {}'.format(Y.shape))\n",
        "# TODO\n",
        "nt = len(Y[0])\n",
        "print('nt = {}'.format(nt))\n",
        "\n",
        "ncur = len(X[0])\n",
        "print('ncur = {}'.format(ncur))\n",
        "\n",
        "nchan = len(Y)\n",
        "print('nchan = {}'.format(nchan))\n",
        "\n",
        "nvoxels = ncur/3\n",
        "print('nvoxels = {}'.format(nvoxels))"
      ],
      "execution_count": 4,
      "outputs": [
        {
          "output_type": "stream",
          "text": [
            "Xshape = (305, 22494)\n",
            "Yshape = (305, 85)\n",
            "nt = 85\n",
            "ncur = 22494\n",
            "nchan = 305\n",
            "nvoxels = 7498.0\n"
          ],
          "name": "stdout"
        }
      ]
    },
    {
      "cell_type": "markdown",
      "metadata": {
        "id": "tvqg2I4iqaKS"
      },
      "source": [
        "## Ridge Regression\n",
        "\n",
        "Our goal is to estimate the currents in the brain from the measurements `Y`.  One simple linear model is:\n",
        "\n",
        "    Y[i,k]  = \\sum_j X[i,j]*W[j,k]+ b[k]\n",
        "\n",
        "where `W[j,k]` is the value of current `j` at time `k` and `b[k]` is a bias.  We can solve for the current matrix `W` via linear regression.  \n",
        "\n",
        "Howeever, there is a problem:\n",
        "*  There are `nt x ncur` unknowns in `W`\n",
        "*  There are only `nt x nchan` measurements in `Y`.\n",
        "\n",
        "In this problem, we have:\n",
        "\n",
        "    number of measurements  << number of unknowns\n",
        "    \n",
        "We need to use regularization in these circumstances.  We first try Ridge regression.\n",
        "\n",
        "First split the data into training and test.  Use the `train_test_split` function with `test_size=0.33`."
      ]
    },
    {
      "cell_type": "code",
      "metadata": {
        "id": "EdFKEgItqaKS"
      },
      "source": [
        "from sklearn.model_selection import train_test_split\n",
        "\n",
        "Xtr, Xts, Ytr, Yts = train_test_split(X,Y,test_size=0.33)"
      ],
      "execution_count": 5,
      "outputs": []
    },
    {
      "cell_type": "markdown",
      "metadata": {
        "id": "t8FFrHH5qaKV"
      },
      "source": [
        "Use the `Ridge` regression object in `sklearn` to fit the model on the training data.  Use a regularization, `alpha=1`."
      ]
    },
    {
      "cell_type": "code",
      "metadata": {
        "id": "yR2ZdlREqaKV",
        "outputId": "e990bcbc-f728-4ca6-81ad-f131a06e4a83",
        "colab": {
          "base_uri": "https://localhost:8080/",
          "height": 52
        }
      },
      "source": [
        "# TODO\n",
        "# regr = Ridge(...)\n",
        "reg = Ridge(alpha=1)\n",
        "reg.fit(Xtr, Ytr)"
      ],
      "execution_count": 6,
      "outputs": [
        {
          "output_type": "execute_result",
          "data": {
            "text/plain": [
              "Ridge(alpha=1, copy_X=True, fit_intercept=True, max_iter=None, normalize=False,\n",
              "      random_state=None, solver='auto', tol=0.001)"
            ]
          },
          "metadata": {
            "tags": []
          },
          "execution_count": 6
        }
      ]
    },
    {
      "cell_type": "markdown",
      "metadata": {
        "id": "DUZ7D2GXqaKY"
      },
      "source": [
        "Preict the values `Y` on both the training and test data.  Use the `r2_score` method to measure the `R^2` value on both the training and test.  You will see that `R^2` value is large for the training data, it is very low for the test data.  This suggest that even with regularization, the model is over-fitting the data."
      ]
    },
    {
      "cell_type": "code",
      "metadata": {
        "id": "7ZAUF5yFqaKY",
        "outputId": "106a1653-31f3-438d-9345-ad91de59bac2",
        "colab": {
          "base_uri": "https://localhost:8080/",
          "height": 52
        }
      },
      "source": [
        "# TODO\n",
        "yhat_tr = reg.predict(Xtr)\n",
        "rsq_tr = r2_score(Ytr, yhat_tr)\n",
        "print('Training R^2 = %12.4e' % rsq_tr)\n",
        "\n",
        "yhat_ts = reg.predict(Xts)\n",
        "rsq_ts = r2_score(Yts, yhat_ts)\n",
        "print('Test R^2     = %12.4e' % rsq_ts)\n",
        "# rsq_tr = ...\n",
        "# rsq_ts = ..."
      ],
      "execution_count": 7,
      "outputs": [
        {
          "output_type": "stream",
          "text": [
            "Training R^2 =   5.9112e-01\n",
            "Test R^2     =   2.0600e-01\n"
          ],
          "name": "stdout"
        }
      ]
    },
    {
      "cell_type": "markdown",
      "metadata": {
        "id": "Y3-r_63PqaKa"
      },
      "source": [
        "Next, try to see if we can get a better `R^2` score using different values of `alpha`.  Use cross-validation to measure the test `R^2` for 20 `alpha` values logarithmically spaced from `10^{-2}` to `10^{2}` (use `np.logspace()`).  You can use regular cross-validation.  You do not need to do `K`-fold."
      ]
    },
    {
      "cell_type": "code",
      "metadata": {
        "id": "BQ-B3aBwqaKb",
        "outputId": "b181d061-cf09-4add-f368-f1e522edb8d7",
        "colab": {
          "base_uri": "https://localhost:8080/",
          "height": 364
        }
      },
      "source": [
        "alpha_ridge = np.logspace(-2,2,20)\n",
        "rsq = []\n",
        "for alpha in alpha_ridge:\n",
        "  reg = Ridge(alpha = alpha)\n",
        "  reg.fit(Xtr, Ytr)\n",
        "\n",
        "  Yhat = reg.predict(Xts)\n",
        "  rsq.append(r2_score(Yts, Yhat))\n",
        "\n",
        "for i in range(0,20):\n",
        "  print(i, 'alpha = {}, RSS = {}'.format(alpha_ridge[i], rsq[i]))"
      ],
      "execution_count": 8,
      "outputs": [
        {
          "output_type": "stream",
          "text": [
            "0 alpha = 0.01, RSS = -0.1165364027257696\n",
            "1 alpha = 0.016237767391887217, RSS = -0.022763310722176317\n",
            "2 alpha = 0.026366508987303583, RSS = 0.057269804112364396\n",
            "3 alpha = 0.04281332398719394, RSS = 0.12593107604560277\n",
            "4 alpha = 0.06951927961775606, RSS = 0.1832815726054341\n",
            "5 alpha = 0.11288378916846889, RSS = 0.22716352247871696\n",
            "6 alpha = 0.18329807108324356, RSS = 0.2540910841589659\n",
            "7 alpha = 0.29763514416313175, RSS = 0.26142218590856825\n",
            "8 alpha = 0.4832930238571752, RSS = 0.24965161316847975\n",
            "9 alpha = 0.7847599703514611, RSS = 0.2229843711172036\n",
            "10 alpha = 1.2742749857031335, RSS = 0.18765115793304393\n",
            "11 alpha = 2.06913808111479, RSS = 0.14954478198343082\n",
            "12 alpha = 3.359818286283781, RSS = 0.11297628178271739\n",
            "13 alpha = 5.455594781168514, RSS = 0.08059631134711122\n",
            "14 alpha = 8.858667904100823, RSS = 0.05366938250680141\n",
            "15 alpha = 14.38449888287663, RSS = 0.03240991686943219\n",
            "16 alpha = 23.357214690901213, RSS = 0.01636839036245994\n",
            "17 alpha = 37.92690190732246, RSS = 0.0047593341869002345\n",
            "18 alpha = 61.584821106602604, RSS = -0.0033230896790650603\n",
            "19 alpha = 100.0, RSS = -0.008762557375928832\n"
          ],
          "name": "stdout"
        }
      ]
    },
    {
      "cell_type": "markdown",
      "metadata": {
        "id": "0y0nbDTrqaKd"
      },
      "source": [
        "Plot the test `R^2` vs. `alpha`.  And print the maximum test `R^2`.  You should see that the maximum test `R^2` is still not very high."
      ]
    },
    {
      "cell_type": "code",
      "metadata": {
        "id": "nXd2yvzfqaKd",
        "outputId": "82a0e00d-4a8d-476b-d50d-c4f65c57602a",
        "colab": {
          "base_uri": "https://localhost:8080/",
          "height": 296
        }
      },
      "source": [
        "# TODO\n",
        "plt.errorbar(np.log10(alpha_ridge), rsq)\n",
        "plt.xlabel('log10(alpha)')\n",
        "plt.ylabel('Test R^2')\n",
        "plt.grid()\n",
        "plt.show()\n",
        "\n",
        "print('Optimal R^2 Ridge:  %f' % np.max(rsq))"
      ],
      "execution_count": 9,
      "outputs": [
        {
          "output_type": "display_data",
          "data": {
            "image/png": "[encoded data removed]",
            "text/plain": [
              "<Figure size 432x288 with 1 Axes>"
            ]
          },
          "metadata": {
            "tags": [],
            "needs_background": "light"
          }
        },
        {
          "output_type": "stream",
          "text": [
            "Optimal R^2 Ridge:  0.261422\n"
          ],
          "name": "stdout"
        }
      ]
    },
    {
      "cell_type": "markdown",
      "metadata": {
        "id": "9yxSFYswqaKf"
      },
      "source": [
        "Now, let's take a look at the solution. \n",
        "\n",
        "* Find the optimal regularization `alpha` from the cross-validation\n",
        "* Re-fit the model at the optimal `alpha`\n",
        "* Get the current matrix `W` from the coefficients in the linear model.  These are stored in `regr.coef_`.  You may need a transpose\n",
        "* For each current `j` compute `Wrms[j] =  sqrt( sum_k W[j,k]**2 )` which is root mean squared current.\n",
        "\n",
        "You will see that the vector `Wrms` is not sparse.  This means that the solution that is found with Ridge regression finds currents in all locations."
      ]
    },
    {
      "cell_type": "code",
      "metadata": {
        "id": "IKhb_RdLqaKf",
        "outputId": "392d5693-b444-4479-c82d-3949f3e5a6bf",
        "colab": {
          "base_uri": "https://localhost:8080/",
          "height": 69
        }
      },
      "source": [
        "# TODO\n",
        "\n",
        "op_val = np.argmax(rsq)\n",
        "alpha_normal = alpha_ridge[op_val]\n",
        "print('Alpha optimal (normal rule) = %12.4e' % alpha_normal)\n",
        "print('Mean test R^2 (normal rule) = %7.3f' % rsq[op_val])\n",
        "\n",
        "reg = Ridge(alpha = op_val)\n",
        "reg.fit(Xtr, Ytr)\n",
        "\n",
        "W = np.matrix.transpose(reg.coef_)\n",
        "Wrms = np.sqrt(np.sum(np.square((W)),axis=1))\n",
        "print (\"Number of non zero elements in vector Wrms, {}\".format(np.count_nonzero(Wrms)))"
      ],
      "execution_count": 10,
      "outputs": [
        {
          "output_type": "stream",
          "text": [
            "Alpha optimal (normal rule) =   2.9764e-01\n",
            "Mean test R^2 (normal rule) =   0.261\n",
            "Number of non zero elements in vector Wrms, 22494\n"
          ],
          "name": "stdout"
        }
      ]
    },
    {
      "cell_type": "markdown",
      "metadata": {
        "id": "30HQ78DqqaKh"
      },
      "source": [
        "## LASSO Regression\n",
        "\n",
        "We can improve the estimate by imposing sparsity.  Biologically, we know that only a limited number of brain regions should be involved in the reponse to a particular stimuli.  As a result, we would expect that the current matrix `W[j,k]` to be zero for most values `j,k`.  We can impose this constraint using LASSO regularization.\n",
        "\n",
        "Re-fit the training data using the `Lasso` model with `alpha=1e-3`.  Also set `max_iter=100` and `tol=0.01`.  The LASSO solver is much slower, so this make take a minute."
      ]
    },
    {
      "cell_type": "code",
      "metadata": {
        "id": "bZnmDEUuqaKh",
        "outputId": "7b68eb89-25d8-49f7-c418-a1247ddadf69",
        "colab": {
          "base_uri": "https://localhost:8080/",
          "height": 69
        }
      },
      "source": [
        "# TODO\n",
        "from sklearn.linear_model import Lasso\n",
        "from warnings import simplefilter\n",
        "from sklearn.exceptions import ConvergenceWarning\n",
        "simplefilter(\"ignore\", category=ConvergenceWarning)\n",
        "\n",
        "# Select alpha\n",
        "alpha = 1e-3\n",
        "\n",
        "reg = Lasso(alpha=alpha, max_iter=100, tol=0.01)\n",
        "reg.fit(Xtr, Ytr)"
      ],
      "execution_count": 11,
      "outputs": [
        {
          "output_type": "execute_result",
          "data": {
            "text/plain": [
              "Lasso(alpha=0.001, copy_X=True, fit_intercept=True, max_iter=100,\n",
              "      normalize=False, positive=False, precompute=False, random_state=None,\n",
              "      selection='cyclic', tol=0.01, warm_start=False)"
            ]
          },
          "metadata": {
            "tags": []
          },
          "execution_count": 11
        }
      ]
    },
    {
      "cell_type": "markdown",
      "metadata": {
        "id": "Llhq1hxmqaKi"
      },
      "source": [
        "Now, test the model on the test data and measure the `R^2` value.  You should get a much better fit than with the Ridge regression solution.  "
      ]
    },
    {
      "cell_type": "code",
      "metadata": {
        "id": "kchncc3oqaKj",
        "outputId": "681c0027-e2d9-4bee-a039-c6305f59a843",
        "colab": {
          "base_uri": "https://localhost:8080/",
          "height": 52
        }
      },
      "source": [
        "# TODO\n",
        "yhat1 = reg.predict(Xtr)\n",
        "rsq_tr = r2_score(Ytr, yhat1)\n",
        "print('Train R^2= {}'.format(rsq_tr))\n",
        "\n",
        "yhat2 = reg.predict(Xts)\n",
        "rsq_ts = r2_score(Yts, yhat2)\n",
        "print('Test R^2= {}'.format(rsq_ts))"
      ],
      "execution_count": 12,
      "outputs": [
        {
          "output_type": "stream",
          "text": [
            "Train R^2= 0.21928088229484427\n",
            "Test R^2= 0.16316720105561489\n"
          ],
          "name": "stdout"
        }
      ]
    },
    {
      "cell_type": "markdown",
      "metadata": {
        "id": "HZTC8EmxqaKk"
      },
      "source": [
        "We can now search for the optimal `alpha`.  Use cross-validation to find the `alpha` logarithically space between `alpha=10^{-3}` and `alpha=10^{-4}`.  Each fit takes some time, so use only 5 values of `alpha`. Also for each `alpha` store the current matrix.  This way, you will not have to re-fit the model."
      ]
    },
    {
      "cell_type": "code",
      "metadata": {
        "id": "QNsj-heXqaKk",
        "outputId": "ad7661ce-1cdf-4719-c864-945e52c659af",
        "colab": {
          "base_uri": "https://localhost:8080/",
          "height": 104
        }
      },
      "source": [
        "alpha_lasso = np.logspace(-3,-4,5)\n",
        "rsq = []\n",
        "\n",
        "for alpha in alpha_lasso:\n",
        "  reg = Lasso(alpha=alpha, max_iter=100, tol=0.01)\n",
        "  reg.fit(Xtr,Ytr)\n",
        "\n",
        "  Yhat = reg.predict(Xts)\n",
        "  rsq.append(r2_score(Yts, Yhat))\n",
        "\n",
        "for i in range(0, 5):\n",
        "  print(i, \" Alpha: {}, RSS: {}\".format(alpha_lasso[i], rsq[i]))"
      ],
      "execution_count": 13,
      "outputs": [
        {
          "output_type": "stream",
          "text": [
            "0  Alpha: 0.001, RSS: 0.16316720105561489\n",
            "1  Alpha: 0.0005623413251903491, RSS: 0.27037008759223136\n",
            "2  Alpha: 0.00031622776601683794, RSS: 0.3378247910927459\n",
            "3  Alpha: 0.00017782794100389227, RSS: 0.36880146191818186\n",
            "4  Alpha: 0.0001, RSS: 0.3584780246303595\n"
          ],
          "name": "stdout"
        }
      ]
    },
    {
      "cell_type": "markdown",
      "metadata": {
        "id": "50IkTf1aqaKm"
      },
      "source": [
        "Plot the `r^2` value vs. `alpha`.  Print the optimal `r^2`.  You should see it is much higher than with the best Ridge Regression case."
      ]
    },
    {
      "cell_type": "code",
      "metadata": {
        "id": "M5jSyhx0qaKm",
        "outputId": "28cbdb43-1ea0-4977-dc5c-ae64d66a0d66",
        "colab": {
          "base_uri": "https://localhost:8080/",
          "height": 296
        }
      },
      "source": [
        "# TODO\n",
        "plt.errorbar(np.log10(alpha_lasso), rsq)\n",
        "plt.xlabel('log10(alpha)')\n",
        "plt.ylabel('Test R^2')\n",
        "plt.grid()\n",
        "plt.show()\n",
        "\n",
        "print('Optimal R^2 LASSO: {}'.format(np.max(rsq)))"
      ],
      "execution_count": 14,
      "outputs": [
        {
          "output_type": "display_data",
          "data": {
            "image/png": "[encoded data removed]",
            "text/plain": [
              "<Figure size 432x288 with 1 Axes>"
            ]
          },
          "metadata": {
            "tags": [],
            "needs_background": "light"
          }
        },
        {
          "output_type": "stream",
          "text": [
            "Optimal R^2 LASSO: 0.36880146191818186\n"
          ],
          "name": "stdout"
        }
      ]
    },
    {
      "cell_type": "markdown",
      "metadata": {
        "id": "UiV7x38yqaKn"
      },
      "source": [
        "Display the current matrix `W` for the optimal `alpha` as you did in the Ridge Regression case.  You will see that is much sparser."
      ]
    },
    {
      "cell_type": "code",
      "metadata": {
        "id": "FwQK4lGoqaKn",
        "outputId": "86d41c00-0bf8-446e-e9ec-7c0a1c113641",
        "colab": {
          "base_uri": "https://localhost:8080/",
          "height": 34
        }
      },
      "source": [
        "# TODO\n",
        "op_val= np.argmax(rsq)\n",
        "op_alpha = alpha_lasso[op_val]\n",
        "\n",
        "reg = Lasso(alpha=op_alpha, max_iter=100, tol=0.01)\n",
        "reg.fit(Xtr, Ytr)\n",
        "\n",
        "W = np.matrix.transpose(reg.coef_)\n",
        "Wrms = np.sqrt(np.sum(np.square((W)),axis=1))\n",
        "print (\"Number of non zero elements in vector Wrms, {}\".format(np.count_nonzero(Wrms)))"
      ],
      "execution_count": 15,
      "outputs": [
        {
          "output_type": "stream",
          "text": [
            "Number of non zero elements in vector Wrms, 489\n"
          ],
          "name": "stdout"
        }
      ]
    },
    {
      "cell_type": "markdown",
      "metadata": {
        "id": "xmFf7ZDMqaKo"
      },
      "source": [
        "## More fun\n",
        "\n",
        "If you want to more on this lab:\n",
        "* Install the [MNE python package](https://martinos.org/mne/stable/index.html).  This is an amazing package with many tools for processing EEG data.\n",
        "* In particular, you can use the above results to visualize where in the brain the currents sources are.\n",
        "* You can also improve the fitting with more regularization.  For example, we know that the currents will be non-zero in groups:  If the current is non-zero for one time, it is likely to non-zero for all time.  You can use the Group LASSO method.\n",
        "* You can combine these results to make predictions about what the patient is seeing or hearing or thinking."
      ]
    },
    {
      "cell_type": "code",
      "metadata": {
        "id": "B18z3Z_bqaKo"
      },
      "source": [
        ""
      ],
      "execution_count": 15,
      "outputs": []
    }
  ]
}