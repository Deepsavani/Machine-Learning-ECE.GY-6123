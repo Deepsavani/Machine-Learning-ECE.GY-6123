{
  "nbformat": 4,
  "nbformat_minor": 0,
  "metadata": {
    "kernelspec": {
      "display_name": "Python 3",
      "language": "python",
      "name": "python3"
    },
    "language_info": {
      "codemirror_mode": {
        "name": "ipython",
        "version": 3
      },
      "file_extension": ".py",
      "mimetype": "text/x-python",
      "name": "python",
      "nbconvert_exporter": "python",
      "pygments_lexer": "ipython3",
      "version": "3.8.3"
    },
    "colab": {
      "name": "DSS569_lab7_nlls_partial.ipynb",
      "provenance": []
    }
  },
  "cells": [
    {
      "cell_type": "markdown",
      "metadata": {
        "id": "esarEL2qi7hu"
      },
      "source": [
        "# Lab:  Nonlinear Least Squares for Modeling Materials\n",
        "\n",
        "Nonlinear least squares (NLLS) is a widely-used method for modeling data.  In NLLS, we wish to fit a model of the form,\n",
        "\n",
        "     yhat = g(x,w)\n",
        "     \n",
        "where `w` is a vector of paramters and `x` is the vector of predictors.  We find `w` by minimizing a least-squares function \n",
        "\n",
        "     f(w) = \\sum_i (y_i - g(x_i,w))^2\n",
        "     \n",
        "where the summation is over training samples `(x_i,y_i)`.  This is similar to linear least-squares, but the function `g(x,w)` may not be linear in `w`.  In general, this optimization has no closed-form expression.  So numerical optimization must be used.  \n",
        "\n",
        "In this lab, we will implement gradient descent on NLLS in a problem of physical modeling of materials.  Specifically, we will estimate parameters for expansion of copper as a function of temperature using a real dataset.  In doing this lab, you will learn to:\n",
        "* Set up a nonlinear least squares as an unconstrained optimization function\n",
        "* Compute initial parameter estimates for a simple rational model\n",
        "* Compute the gradients of the least squares objective\n",
        "* Implement gradient descent for minimizing the objective\n",
        "* Implement momentum gradient descent\n",
        "* Visualize the convergence of the algorithm\n",
        "\n",
        "We first import some key packages."
      ]
    },
    {
      "cell_type": "code",
      "metadata": {
        "id": "qdrd6VS8i7hv"
      },
      "source": [
        "import pandas as pd\n",
        "import numpy as np\n",
        "import matplotlib.pyplot as plt\n",
        "from sklearn.linear_model import Ridge, LinearRegression"
      ],
      "execution_count": null,
      "outputs": []
    },
    {
      "cell_type": "markdown",
      "metadata": {
        "id": "t9lB3dXVi7h0"
      },
      "source": [
        "## Load the Data\n",
        "\n",
        "The NIST agency has an excellent [nonlinear regression website](https://www.itl.nist.gov/div898/strd/nls/nls_main.shtml) that has several datasets for nonlinear regression problems.  In this lab, we will use the data from a NIST study involving the thermal expansion of copper. The response variable is the coefficient of thermal expansion, and the predictor variable is temperature in degrees kelvin.  \n",
        "\n",
        "> Hahn, T., NIST (1979), Copper Thermal Expansion Study.  (unpublished}\n",
        "\n",
        "You can download the data as follows."
      ]
    },
    {
      "cell_type": "code",
      "metadata": {
        "id": "OHCjzKi9i7h1",
        "outputId": "90975655-d126-4a67-b1f9-1bf36ea2ae67",
        "colab": {
          "base_uri": "https://localhost:8080/",
          "height": 201
        }
      },
      "source": [
        "url = 'https://itl.nist.gov/div898/strd/nls/data/LINKS/DATA/Hahn1.dat'\n",
        "df = pd.read_csv(url, skiprows=60, sep=' ',skipinitialspace=True, names=['y0','x0','dummy'])\n",
        "df.head()"
      ],
      "execution_count": null,
      "outputs": [
        {
          "output_type": "execute_result",
          "data": {
            "text/html": [
              "<div>\n",
              "<style scoped>\n",
              "    .dataframe tbody tr th:only-of-type {\n",
              "        vertical-align: middle;\n",
              "    }\n",
              "\n",
              "    .dataframe tbody tr th {\n",
              "        vertical-align: top;\n",
              "    }\n",
              "\n",
              "    .dataframe thead th {\n",
              "        text-align: right;\n",
              "    }\n",
              "</style>\n",
              "<table border=\"1\" class=\"dataframe\">\n",
              "  <thead>\n",
              "    <tr style=\"text-align: right;\">\n",
              "      <th></th>\n",
              "      <th>y0</th>\n",
              "      <th>x0</th>\n",
              "      <th>dummy</th>\n",
              "    </tr>\n",
              "  </thead>\n",
              "  <tbody>\n",
              "    <tr>\n",
              "      <th>0</th>\n",
              "      <td>0.591</td>\n",
              "      <td>24.41</td>\n",
              "      <td>NaN</td>\n",
              "    </tr>\n",
              "    <tr>\n",
              "      <th>1</th>\n",
              "      <td>1.547</td>\n",
              "      <td>34.82</td>\n",
              "      <td>NaN</td>\n",
              "    </tr>\n",
              "    <tr>\n",
              "      <th>2</th>\n",
              "      <td>2.902</td>\n",
              "      <td>44.09</td>\n",
              "      <td>NaN</td>\n",
              "    </tr>\n",
              "    <tr>\n",
              "      <th>3</th>\n",
              "      <td>2.894</td>\n",
              "      <td>45.07</td>\n",
              "      <td>NaN</td>\n",
              "    </tr>\n",
              "    <tr>\n",
              "      <th>4</th>\n",
              "      <td>4.703</td>\n",
              "      <td>54.98</td>\n",
              "      <td>NaN</td>\n",
              "    </tr>\n",
              "  </tbody>\n",
              "</table>\n",
              "</div>"
            ],
            "text/plain": [
              "      y0     x0  dummy\n",
              "0  0.591  24.41    NaN\n",
              "1  1.547  34.82    NaN\n",
              "2  2.902  44.09    NaN\n",
              "3  2.894  45.07    NaN\n",
              "4  4.703  54.98    NaN"
            ]
          },
          "metadata": {
            "tags": []
          },
          "execution_count": 19
        }
      ]
    },
    {
      "cell_type": "markdown",
      "metadata": {
        "id": "v5jhHxcBi7h4"
      },
      "source": [
        "Extract the `x0` and `y0` into arrays.  Rescale, `x0` and `y0` to values between `0` and `1` by dividing `x0` and `y0` by the maximum value.  Store the scaled values in vectors `x` and `y`.  The rescaling will help with the conditioning of the fitting.  Plot, `y` vs. `x`. "
      ]
    },
    {
      "cell_type": "code",
      "metadata": {
        "id": "pbnDSmwpi7h5",
        "outputId": "aa76be76-0682-4851-99a3-046694da097f",
        "colab": {
          "base_uri": "https://localhost:8080/",
          "height": 312
        }
      },
      "source": [
        "# TODO\n",
        "x0 = df['x0']\n",
        "y0 = df['y0']\n",
        "print(x0.shape)\n",
        "#print(\"X0 = {}\".format(x0))\n",
        "#print(\"y0 = {}\".format(y0))\n",
        "x = x0/np.max(x0)\n",
        "y = y0/np.max(y0)\n",
        "print(y.shape)\n",
        "plt.plot(x,y,'o')"
      ],
      "execution_count": null,
      "outputs": [
        {
          "output_type": "stream",
          "text": [
            "(236,)\n",
            "(236,)\n"
          ],
          "name": "stdout"
        },
        {
          "output_type": "execute_result",
          "data": {
            "text/plain": [
              "[<matplotlib.lines.Line2D at 0x7f9c6c40b6d8>]"
            ]
          },
          "metadata": {
            "tags": []
          },
          "execution_count": 20
        },
        {
          "output_type": "display_data",
          "data": {
            "image/png": "[encoded data removed]",
            "text/plain": [
              "<Figure size 432x288 with 1 Axes>"
            ]
          },
          "metadata": {
            "tags": [],
            "needs_background": "light"
          }
        }
      ]
    },
    {
      "cell_type": "markdown",
      "metadata": {
        "id": "wduk0gATi7h7"
      },
      "source": [
        "To make the problem a little more challenging, we will add some noise.  Add random Gaussian noise with mean 0 and std. dev = 0.02 to `y`.  Store the noisy results in `yn`. You can use the `np.random.normal()` function to add Gaussian noise. Plot `yn` vs. `x`."
      ]
    },
    {
      "cell_type": "code",
      "metadata": {
        "id": "uRodHDcOi7h8",
        "outputId": "3b1e3d7d-b4ae-4ed0-a54d-f095939dcffd",
        "colab": {
          "base_uri": "https://localhost:8080/",
          "height": 280
        }
      },
      "source": [
        "# TODO\n",
        "# yn = y + ...\n",
        "mean = 0\n",
        "stdev = 0.02\n",
        "yn = y + np.random.normal(mean, stdev, y.size)\n",
        "plt.plot(x, yn, 'o')"
      ],
      "execution_count": null,
      "outputs": [
        {
          "output_type": "execute_result",
          "data": {
            "text/plain": [
              "[<matplotlib.lines.Line2D at 0x7f9c6c425b00>]"
            ]
          },
          "metadata": {
            "tags": []
          },
          "execution_count": 21
        },
        {
          "output_type": "display_data",
          "data": {
            "image/png": "[encoded data removed]",
            "text/plain": [
              "<Figure size 432x288 with 1 Axes>"
            ]
          },
          "metadata": {
            "tags": [],
            "needs_background": "light"
          }
        }
      ]
    },
    {
      "cell_type": "markdown",
      "metadata": {
        "id": "5qRFS145i7h-"
      },
      "source": [
        "Split the data `(x,yn)` into training and test.  Let `xtr,ytr` be training data and `xts,yts` be the test data.  You can use the `train_test_split` function.  Set `test_size=0.33` so that 1/3 of the samples are held out for test."
      ]
    },
    {
      "cell_type": "code",
      "metadata": {
        "id": "zEyrdHAdi7h_"
      },
      "source": [
        "from sklearn.model_selection import train_test_split\n",
        "from sklearn.preprocessing import StandardScaler\n",
        "\n",
        "# TODO\n",
        "Xtr, Xts, ytr, yts = train_test_split(x,y, test_size=0.33)\n",
        "\n",
        "# scal = StandardScaler()\n",
        "# Xtr1 = scal.fit_transform(Xtr)\n",
        "# Xts1 = scal.transform(Xts)"
      ],
      "execution_count": null,
      "outputs": []
    },
    {
      "cell_type": "markdown",
      "metadata": {
        "id": "jaAkyWq0i7iB"
      },
      "source": [
        "## Initial Fit for a Rational Model\n",
        "\n",
        "The [NIST website](https://www.itl.nist.gov/div898/strd/nls/data/hahn1.shtml) suggests using a *rational* model of the form,\n",
        "\n",
        "      yhat = (a[0] + a[1]*x + ... + a[d]*x^d)/(1 + b[0]*x + ... + b[d-1]*x^d)\n",
        "      \n",
        "with `d=3`.  The model parameters are `w = [a[0],...,a[d],b[0],...,b[d-1]]` so there are `2d+1` parameters total.    Complete the function below that takes vectors `w` and `x` and predicts a set of values `yhat` using the above model.\n",
        "   "
      ]
    },
    {
      "cell_type": "code",
      "metadata": {
        "id": "JmVKmeaUi7iC"
      },
      "source": [
        "def predict(w,x):\n",
        "    \n",
        "    # Get the length\n",
        "    d = (len(w)-1)//2\n",
        "    \n",
        "    # TODO.  Extract a and b from w\n",
        "    a = w[0:d+1]\n",
        "    b = [1] + w[d+1:]\n",
        "\n",
        "\n",
        "    # TODO.  Compute yhat.  You may use the np.polyval function\n",
        "    # But, remember you must flip the order the a and b \n",
        "    #since normally np.polyval return  ->  p[0]*x**(N-1) + p[1]*x**(N-2) + ... + p[N-2]*x + p[N-1]\n",
        "    yhat = np.polyval(np.flip(a),x)/np.polyval(np.flip(b),x)\n",
        "    return yhat"
      ],
      "execution_count": null,
      "outputs": []
    },
    {
      "cell_type": "markdown",
      "metadata": {
        "id": "pL1EMiP8i7iF"
      },
      "source": [
        "When we fit with a nonlinear model, most methods only get convergence to a local minima.  So, you need a good initial condition.  For a rational model, one way to get is to realize that if:\n",
        "\n",
        "\n",
        "    y ~= (a[0] + a[1]*x + ... + a[d]*x^d)/(1 + b[0]*x + ... + b[d-1]*x^d)\n",
        "    \n",
        "Then:\n",
        "\n",
        "    y ~= a[0] + a[1]*x + ... + a[d]*x^d - b[0]*x*y + ... - b[d-1]*x^d*y.\n",
        "    \n",
        "So, we can solve for the the parameters `w = [a,b]` from linear regression of the predictors,\n",
        "\n",
        "    Z[i,:] = [ x[i], ... , x[i]**d, y[i]*x[i], ... , y[i]*x[i]**d ] "
      ]
    },
    {
      "cell_type": "code",
      "metadata": {
        "id": "Ao2DQf2Hi7iF",
        "outputId": "27a72dc8-f877-4146-db28-bb7cdf1f69a9",
        "colab": {
          "base_uri": "https://localhost:8080/",
          "height": 345
        }
      },
      "source": [
        "d = 3\n",
        "\n",
        "# TODO.  Create the transformed feature matrix\n",
        "z = np.zeros((len(x),2*d)) #Creating a zero matrix with len(x) rows and 2d (6) columns\n",
        "z.shape\n",
        "for i in range(z.shape[0]):\n",
        "  z[i,:] = np.hstack((x[i]**np.arange(1,d+1),y[i]*x[i]**np.arange(1,d+1)))\n",
        "print(z)\n",
        "# TODO.  Fit with parameters with linear regression\n",
        "regr = LinearRegression()\n",
        "regr.fit(z,y)\n",
        "\n",
        "# TODO\n",
        "# Extract the parameters from regr.coef_ and regr.intercept_ and store the parameter vector in winit\n",
        "winit1 = regr.coef_\n",
        "print(\"Coef = {}\\n\".format(winit1))\n",
        "winit2 = [regr.intercept_]\n",
        "print(\"intercept = {}\\n\".format(winit2))\n",
        "\n",
        "winit = np.concatenate((winit2, winit1))\n",
        "print(\"winit = {}\".format(winit))"
      ],
      "execution_count": null,
      "outputs": [
        {
          "output_type": "stream",
          "text": [
            "[[2.86633553e-02 8.21587937e-04 2.35494669e-05 8.03416788e-04\n",
            "  2.30286208e-05 6.60077541e-07]\n",
            " [4.08872606e-02 1.67176808e-03 6.83540171e-05 2.99988580e-03\n",
            "  1.22657113e-04 5.01511333e-06]\n",
            " [5.17725250e-02 2.68039434e-03 1.38770783e-04 7.12562805e-03\n",
            "  3.68911756e-04 1.90994931e-05]\n",
            " ...\n",
            " [9.97815902e-01 9.95636574e-01 9.93462005e-01 9.97295343e-01\n",
            "  9.95117152e-01 9.92943718e-01]\n",
            " [9.99260225e-01 9.98520997e-01 9.97782316e-01 9.99260225e-01\n",
            "  9.98520997e-01 9.97782316e-01]\n",
            " [9.96031047e-01 9.92077847e-01 9.88140336e-01 9.88945220e-01\n",
            "  9.85020143e-01 9.81110645e-01]]\n",
            "Coef = [ 11.80963715 -42.25771011  34.98808982  -5.43086501  33.0469154\n",
            " -30.9067347 ]\n",
            "\n",
            "intercept = [-0.28819154993112384]\n",
            "\n",
            "winit = [ -0.28819155  11.80963715 -42.25771011  34.98808982  -5.43086501\n",
            "  33.0469154  -30.9067347 ]\n"
          ],
          "name": "stdout"
        }
      ]
    },
    {
      "cell_type": "code",
      "metadata": {
        "id": "z3aN6KvRBm8r"
      },
      "source": [
        ""
      ],
      "execution_count": null,
      "outputs": []
    },
    {
      "cell_type": "markdown",
      "metadata": {
        "id": "6rE1ActVi7iH"
      },
      "source": [
        "Now plot the predicted values of the `yhat` vs. `x` using your estimated parameter `winit` for 1000 values `x` in `[0,1]`.  On the same plot, plot `yts` vs. `xts`.  You will see that you get a horrible fit."
      ]
    },
    {
      "cell_type": "code",
      "metadata": {
        "id": "Inb7AN8si7iI",
        "outputId": "2422899f-7cb8-4063-cca5-079cd1601657",
        "colab": {
          "base_uri": "https://localhost:8080/",
          "height": 280
        }
      },
      "source": [
        "# TODO\n",
        "xp = np.linspace(0,1,1000)\n",
        "yhat = predict(winit, xp) #Predicted\n",
        "plt.plot(xp,yhat,'o')\n",
        "plt.plot(Xts, yts, 'o')\n",
        "plt.ylim(-5,5)\n",
        "plt.legend(['Predicted','True'], loc='upper left')"
      ],
      "execution_count": null,
      "outputs": [
        {
          "output_type": "execute_result",
          "data": {
            "text/plain": [
              "<matplotlib.legend.Legend at 0x7f9c6c618940>"
            ]
          },
          "metadata": {
            "tags": []
          },
          "execution_count": 25
        },
        {
          "output_type": "display_data",
          "data": {
            "image/png": "[encoded data removed]",
            "text/plain": [
              "<Figure size 432x288 with 1 Axes>"
            ]
          },
          "metadata": {
            "tags": [],
            "needs_background": "light"
          }
        }
      ]
    },
    {
      "cell_type": "markdown",
      "metadata": {
        "id": "jOC7rEwYi7iL"
      },
      "source": [
        "The reason the previous fit is poor is that the denominator in `yhat` goes close to zero.   To avoid this problem, we can use Ridge regression, to try to keep the parameters close to zero.  Re-run the fit above with `Ridge` with `alpha = 1e-3`. You should see you get a reasonable, but not perfect fit."
      ]
    },
    {
      "cell_type": "code",
      "metadata": {
        "id": "3GA48QTri7iL",
        "outputId": "bec4f7c1-c4be-4686-a68c-15c524931ac4",
        "colab": {
          "base_uri": "https://localhost:8080/",
          "height": 312
        }
      },
      "source": [
        "# TODO.  Fit with parameters with linear regression\n",
        "regr = Ridge(alpha=1e-3)\n",
        "regr.fit(z, y)\n",
        "\n",
        "# TODO\n",
        "# Extract the parameters from regr.coef_ and regr.intercept_\n",
        "winit1 = regr.coef_\n",
        "winit2 = [regr.intercept_]\n",
        "winit = np.concatenate((winit2, winit1))\n",
        "print(\"winit = {}\".format(winit))\n",
        "\n",
        "# TODO\n",
        "# Plot the results as above.\n",
        "xp = np.linspace(0,1,1000)\n",
        "yhat = predict(winit, xp) #Predicted\n",
        "plt.plot(xp,yhat,'o')\n",
        "plt.plot(Xts, yts, 'o')\n",
        "plt.ylim(-5,5)\n",
        "plt.legend(['Predicted','True'], loc='upper left')"
      ],
      "execution_count": null,
      "outputs": [
        {
          "output_type": "stream",
          "text": [
            "winit = [-0.15301076  7.40768397 -3.99267034  5.50271855 -3.32254674 -4.78232607\n",
            "  0.32155614]\n"
          ],
          "name": "stdout"
        },
        {
          "output_type": "execute_result",
          "data": {
            "text/plain": [
              "<matplotlib.legend.Legend at 0x7f9c6c7ec048>"
            ]
          },
          "metadata": {
            "tags": []
          },
          "execution_count": 26
        },
        {
          "output_type": "display_data",
          "data": {
            "image/png": "[encoded data removed]",
            "text/plain": [
              "<Figure size 432x288 with 1 Axes>"
            ]
          },
          "metadata": {
            "tags": [],
            "needs_background": "light"
          }
        }
      ]
    },
    {
      "cell_type": "markdown",
      "metadata": {
        "id": "eg88ywpPi7iN"
      },
      "source": [
        "## Creating a Loss Function\n",
        "\n",
        "We can now use gradient descent to improve our initial estimate.  Complete the following function to compute\n",
        "\n",
        "    f(w) = 0.5*\\sum_i (y[i] - yhat[i])^2\n",
        "    \n",
        "and `fgrad`, the gradient of `f(w)`."
      ]
    },
    {
      "cell_type": "code",
      "metadata": {
        "id": "mqfgTOwBVRE-"
      },
      "source": [
        "#TEST\n",
        "# d = (len(winit)-1)//2\n",
        "# a = winit[0:d+1]\n",
        "# b = winit[d+1:]\n",
        "# print(a)\n",
        "# print(b)\n",
        "# znum = np.zeros([x.shape[0],d+1])\n",
        "#     # TODO.  Znum[i,j] = x[i]**j\n",
        "# for i in range(znum.shape[0]):\n",
        "#   znum[i,:] = x[i]**np.arange(0,d+1)\n",
        "# print(znum.shape)\n",
        "\n",
        "# zden = np.zeros([x.shape[0]-1,d])\n",
        "#     # TODO.  Zden[i,j] = x[i]**(j+1)\n",
        "# for i in range(zden.shape[0]):\n",
        "#   zden[i,:] = x[i]**np.arange(1,d+1)\n",
        "# print(zden.shape)\n",
        "\n",
        "\n",
        "# def feval(w,x1,y1):\n",
        "        \n",
        "    \n",
        "#     # TODO.  Parse w\n",
        "#     # Get the length\n",
        "#     d = (len(w)-1)//2\n",
        "    \n",
        "#     # TODO.  Extract a and b from w\n",
        "#     a = w[0:d+1]\n",
        "#     b = w[d+1:]\n",
        "    \n",
        "#     znum = np.zeros([x1.shape[0], d+1])\n",
        "#     # TODO.  Znum[i,j] = x[i]**j\n",
        "#     for i in range(znum.shape[0]):\n",
        "#         znum[i,:] = (x1[i]**np.arange(0,d+1))\n",
        "#         znum[i]=znum[i].dot(a)\n",
        "\n",
        "#     zden = np.zeros([x1.shape[0], d])\n",
        "#     newcol=np.zeros([x1.shape[0],1])\n",
        "#     # TODO.  Zden[i,j] = x[i]**(j+1)\n",
        "#     for i in range(zden.shape[0]):\n",
        "#         zden[i,:] = (x1[i]**np.arange(1,d+1))\n",
        "#         zden[i]=zden[i].dot(y1[i]).dot(b)\n",
        "    \n",
        "#     zden=np.append(zden,newcol,1)\n",
        "#     # TODO.  Compute yhat \n",
        "#     # Compute the numerator and denominator\n",
        "#     yhat1 = np.zeros((zden.shape[0],1))\n",
        "#     for i in range(zden.shape[0]):\n",
        "#       zb=znum[i]-zden[i]\n",
        "#       yhat1[i] = sum(list(zb))\n",
        "    \n",
        "#     #yhat=np.subtract(znum,zden)\n",
        "#     #znum = znum.dot(a.T)\n",
        "#     #zden = zden.dot(b.T)\n",
        "#     # TODO.  Compute loss\n",
        "#     y1=np.reshape(236,1)\n",
        "#     f = 0.5*np.sum((y1 - yhat1)**2)\n",
        "#     #f=y-yhat\n",
        "#     # TODO.  Compute gradients\n",
        "#     df_dz = yhat1 - y1\n",
        "#     fgrad = 0\n",
        "    \n",
        "#     return f, fgrad\n"
      ],
      "execution_count": null,
      "outputs": []
    },
    {
      "cell_type": "code",
      "metadata": {
        "id": "Z05l9jyQi7iN"
      },
      "source": [
        "def feval(w,x,y):\n",
        "    d = (len(w)-1)//2\n",
        "    \n",
        "    # TODO.  Extract a and b from w\n",
        "    a = w[0:d+1]\n",
        "    b = w[d+1:]\n",
        "    \n",
        "    #znum = np.zeros([x.shape[0], d+1])\n",
        "    # TODO.  Znum[i,j] = x[i]**j\n",
        "    for i in range(0, d+1):\n",
        "      if i ==0:\n",
        "        znum = np.ones(x.shape[0],)\n",
        "      else:\n",
        "        znum = np.column_stack((znum, x**i))\n",
        "\n",
        "    #zden = np.zeros([x.shape[0], d])\n",
        "    for i in range(1, d+1):\n",
        "      if i ==1:\n",
        "        zden = x\n",
        "      else:\n",
        "        zden = np.column_stack((zden, x**i))\n",
        "    \n",
        "    # TODO.  Compute yhat \n",
        "    # Compute the numerator and denominator\n",
        "    #yhat=np.subtract(znum,zden)\n",
        "    #znum = znum.dot(a.T)\n",
        "    #zden = zden.dot(b.T)\n",
        "    yhat =znum.dot(a)/(1+ zden.dot(b))\n",
        "\n",
        "    # TODO.  Compute loss\n",
        "    f = 0.5*np.sum((y - yhat)**2)\n",
        "    #f=y-yhat\n",
        "    # TODO.  Compute gradients\n",
        "    df_dz=yhat -y\n",
        "    dz_da=znum/(zden.dot(b)+1)[:,None]\n",
        "    dz_db=-zden*znum.dot(a)[:,None]/((1+zden.dot(b))**2)[:,None]\n",
        "    dz_dw =np.column_stack((dz_da,dz_db))\n",
        "    fgrad = dz_dw.T.dot(df_dz)\n",
        "\n",
        "    return f, fgrad\n"
      ],
      "execution_count": null,
      "outputs": []
    },
    {
      "cell_type": "markdown",
      "metadata": {
        "id": "rMfV7_Dzi7iP"
      },
      "source": [
        "Test the gradient function:\n",
        "* Take `w0=winit` and compute `f0,fgrad0 = feval(w0,xtr,ytr)`\n",
        "* Take `w1` very close to `w0` and compute `f1,fgrad1 = feval(w1,xtr,ytr)`\n",
        "* Verify that `f1-f0` is close to the predicted value based on the gradient."
      ]
    },
    {
      "cell_type": "code",
      "metadata": {
        "id": "kXRjPpzivKBw",
        "outputId": "b9fc8854-3893-41e0-a953-dac070d5bc3d",
        "colab": {
          "base_uri": "https://localhost:8080/",
          "height": 49
        }
      },
      "source": [
        "# TODO\n",
        "w0=winit\n",
        "f0,fgrad0 =feval(w0,Xtr,ytr)\n",
        "step = 1e-6\n",
        "w1 = w0 + step*np.random.randn(len(w0))\n",
        "f1,fgrad1 =feval(w1,Xtr,ytr)\n",
        "# Predict the amount the function should have changed based on the gradient \n",
        "df_est = fgrad0.dot(w1-w0)\n",
        "print(\"Actual f1-f0 = %12.4e\" % (f1-f0))\n",
        "print(\"Predicted f1-f0 = %12.4e\" % df_est)"
      ],
      "execution_count": null,
      "outputs": [
        {
          "output_type": "stream",
          "text": [
            "Actual f1-f0 =  -1.0921e-01\n",
            "Predicted f1-f0 =  -1.0921e-01\n"
          ],
          "name": "stdout"
        }
      ]
    },
    {
      "cell_type": "code",
      "metadata": {
        "id": "NaWXfHgHi7iP"
      },
      "source": [
        "# # TODO\n",
        "# f0, fgrad = feval(winit, x, y)\n",
        "# print(f0,fgrad.shape)\n",
        "# #print(fgrad)"
      ],
      "execution_count": null,
      "outputs": []
    },
    {
      "cell_type": "markdown",
      "metadata": {
        "id": "c4uH7-U2i7iR"
      },
      "source": [
        "## Implement gradient descent\n",
        "\n",
        "We will now try to minimize the loss function with gradient descent.  Using the function `feval` defined above, implement gradient descent.  Run gradient descent with a step size of `alpha=1e-6` starting at `w=winit`.  Run it for `nit=10000` iterations.  Compute `fgd[it]`= the objective function on iteration `it`.  Plot `fgd[it]` vs. `it`.  \n",
        "\n",
        "You should see that the training loss decreases, but it still hasn't converged after 10000 iterations."
      ]
    },
    {
      "cell_type": "code",
      "metadata": {
        "id": "r5kQbBidi7iS"
      },
      "source": [
        "# # TODO\n",
        "# # fgd = ...\n",
        "# nit = 10000\n",
        "# step = 1e-6\n",
        "# w0_v1 = winit\n",
        "# flist = np.zeros((1000, 2))\n",
        "# flist_v2 = []\n",
        "\n",
        "# for it in range(nit):\n",
        "#   f0, fgrad0 = feval(w0, Xtr, ytr)\n",
        "#   w0_v1 = w0_v1 - step*fgrad0\n",
        "#   flist[i,0] = f0\n",
        "#   flist_v2.append(f0)\n",
        "#   flist[i,1] = it\n",
        "#   #it_list.append(it)\n",
        "\n",
        "\n",
        "# ## TODO\n",
        "# # fgd = ... \n",
        "# nit = 10000 \n",
        "# step = 1e-6\n",
        "# # Initialize \n",
        "# w0_gd = winit\n",
        "# # Create history dictionary for tracking progress per iteration. # This isn't necessary if you just want the final answer, but it # is useful for debugging\n",
        "# hist = []\n",
        "# # Loop over iterations \n",
        "# for it in range(nit):\n",
        "#   # Evaluate the function and gradient \n",
        "#   f0, fgrad0 = feval(w0_gd,Xtr,ytr)\n",
        "#   # Take a gradient step \n",
        "#   w0_gd = w0_gd - step*fgrad0\n",
        "#   # Save history \n",
        "#   hist.append(f0)\n",
        "# t = np.arange(nit) \n",
        "# plt.semilogx(t, hist) \n",
        "# plt.grid()\n",
        "\n",
        "\n",
        "\n",
        "def grad_opt_simp(feval, winit, xtr, ytr, lr=1e-6,nit=1000):\n",
        "    \"\"\"\n",
        "    Simple gradient descent optimization\n",
        "    \n",
        "    feval:  A function that returns f, fgrad, the objective\n",
        "            function and its gradient\n",
        "    winit:  Initial estimate\n",
        "    lr:     learning rate\n",
        "    nit:    Number of iterations\n",
        "    \"\"\"\n",
        "    # Initialize\n",
        "    w0 = winit\n",
        "    \n",
        "    # Create history dictionary for tracking progress per iteration.\n",
        "    # This isn't necessary if you just want the final answer, but it \n",
        "    # is useful for debugging\n",
        "    hist = {'w': [], 'f': []}\n",
        "    \n",
        "    # Loop over iterations\n",
        "    for it in range(nit):\n",
        "\n",
        "        # Evaluate the function and gradient\n",
        "        f0, fgrad0 = feval(w0, xtr, ytr)\n",
        "\n",
        "        # Take a gradient step\n",
        "        w0 = w0 - lr*fgrad0\n",
        "        \n",
        "         # Save history\n",
        "        hist['f'].append(f0)\n",
        "        hist['w'].append(w0)\n",
        "\n",
        "    # Convert to numpy arrays\n",
        "    for elem in ('f', 'w'):\n",
        "        hist[elem] = np.array(hist[elem])\n",
        "    return w0, f0, hist"
      ],
      "execution_count": null,
      "outputs": []
    },
    {
      "cell_type": "code",
      "metadata": {
        "id": "DaTG1Kms9Ees",
        "outputId": "308183d3-ac50-4e86-bfcb-627a4f6e1074",
        "colab": {
          "base_uri": "https://localhost:8080/",
          "height": 298
        }
      },
      "source": [
        "# # plt.semilogx(it_list, f0_list)\n",
        "# # plt.xlim(np.min(it_list), np.max(it_list))\n",
        "# # plt.xlim(np.min(f0_list), np.max(f0_list))\n",
        "# # plt.grid()\n",
        "# flist = np.flip(flist)\n",
        "# np.sort(flist[:,1])\n",
        "# # plt.semilogx(flist[:,1], flist[:,0])\n",
        "# # plt.grid()\n",
        "# print(len(flist_v2))\n",
        "# t = np.arange(nit) # 0 to 10000 \n",
        "# print(len(t))\n",
        "# plt.semilogx(t, flist_v2)\n",
        "# plt.grid()\n",
        "\n",
        "\n",
        "# Parameters\n",
        "#feval = log_fun.feval\n",
        "nit = 1000\n",
        "lr = 1e-4\n",
        "\n",
        "# Run the gradient descent\n",
        "w, f0, hist = grad_opt_simp(feval, winit, Xtr, ytr, lr=lr, nit=nit)\n",
        "\n",
        "# Plot the training loss\n",
        "t = np.arange(nit)+1\n",
        "plt.semilogx(t, hist['f'])\n",
        "plt.grid()\n",
        "plt.xlabel('Iteration')\n",
        "plt.ylabel('Training loss')"
      ],
      "execution_count": null,
      "outputs": [
        {
          "output_type": "execute_result",
          "data": {
            "text/plain": [
              "Text(0, 0.5, 'Training loss')"
            ]
          },
          "metadata": {
            "tags": []
          },
          "execution_count": 32
        },
        {
          "output_type": "display_data",
          "data": {
            "image/png": "[encoded data removed]",
            "text/plain": [
              "<Figure size 432x288 with 1 Axes>"
            ]
          },
          "metadata": {
            "tags": [],
            "needs_background": "light"
          }
        }
      ]
    },
    {
      "cell_type": "markdown",
      "metadata": {
        "id": "uWTHvqk7i7iT"
      },
      "source": [
        "Now, try to get a faster convergence with adaptive step-size using the Armijo rule. Implement the gradient descent with adaptive step size.  Let `fadapt[it]` be the loss function on iteration `it`.  Plot `fadapt[it]` and `fgd[it]` vs. `it` on the same graph.  You should see a slight improvement, but not much."
      ]
    },
    {
      "cell_type": "code",
      "metadata": {
        "scrolled": true,
        "id": "GI3u90X-i7iU",
        "outputId": "39686ab2-9a0e-4acd-c274-9507764723db",
        "colab": {
          "base_uri": "https://localhost:8080/",
          "height": 284
        }
      },
      "source": [
        "# TODO\n",
        "# fadapt = ...\n",
        "nit = 10000\n",
        "step = 1e-6  # Initial step\n",
        "lr = step\n",
        "w0 = winit\n",
        "f0, fgrad0 = feval(w0, Xtr, ytr)\n",
        "hist_adapt = []\n",
        "\n",
        "for it in range(nit):\n",
        "  w1 = w0 - lr*fgrad0\n",
        "\n",
        "  f1, fgrad1 = feval(w1, Xtr, ytr)\n",
        "  df_est = fgrad0.dot(w1-w0)\n",
        "\n",
        "  # Check if test point passes the Armijo condition\n",
        "  alpha = 0.5\n",
        "  if (f1-f0 < alpha*df_est) and (f1 < f0):\n",
        "    # If descent is sufficient, accept the point and increase the\n",
        "    # learning rate\n",
        "    lr = lr*2\n",
        "    f0 = f1\n",
        "    fgrad0 = fgrad1\n",
        "    w0 = w1\n",
        "  else:\n",
        "    # Otherwise, decrease the learning rate\n",
        "    lr = lr/2\n",
        "\n",
        "  hist_adapt.append(f0)\n",
        "\n",
        "t = np.arange(nit) + 1\n",
        "plt.semilogx(t, hist_adapt)\n",
        "# plt.semilogx(t, hist['f'])\n",
        "plt.grid\n"
      ],
      "execution_count": null,
      "outputs": [
        {
          "output_type": "execute_result",
          "data": {
            "text/plain": [
              "<function matplotlib.pyplot.grid>"
            ]
          },
          "metadata": {
            "tags": []
          },
          "execution_count": 33
        },
        {
          "output_type": "display_data",
          "data": {
            "image/png": "[encoded data removed]",
            "text/plain": [
              "<Figure size 432x288 with 1 Axes>"
            ]
          },
          "metadata": {
            "tags": [],
            "needs_background": "light"
          }
        }
      ]
    },
    {
      "cell_type": "markdown",
      "metadata": {
        "id": "u4RFpwTbi7iV"
      },
      "source": [
        "Using he final estimate for `w` from the adaptive step-size plot the predicted values of the `yhat` vs. `x` usfor 1000 values `x` in `[0,1]`.  On the same plot, plot `yhat` vs. `x` for the initial parameter `w=winit`.  Also, plot `yts` vs. `xts`.  You should see that gradient descent was able to improve the estimat slightly, although the initial estimate was not too bad."
      ]
    },
    {
      "cell_type": "code",
      "metadata": {
        "id": "qbxVFr4ii7iV",
        "outputId": "1f11c890-5fc7-434a-bf4a-6e21079ce26e",
        "colab": {
          "base_uri": "https://localhost:8080/",
          "height": 280
        }
      },
      "source": [
        "# TODO\n",
        "xp = np.linspace(0,1,1000)\n",
        "yhat_grad = predict(winit, xp)\n",
        "yhat_ridge = predict(winit, xp)\n",
        "plt.plot(xp, yhat_grad)\n",
        "plt.plot(xp, yhat_ridge)\n",
        "plt.plot(Xts, yts, 'o')\n",
        "plt.legend(['w','winit','true values'],loc='upper left')\n"
      ],
      "execution_count": null,
      "outputs": [
        {
          "output_type": "execute_result",
          "data": {
            "text/plain": [
              "<matplotlib.legend.Legend at 0x7f9c6c1cccc0>"
            ]
          },
          "metadata": {
            "tags": []
          },
          "execution_count": 34
        },
        {
          "output_type": "display_data",
          "data": {
            "image/png": "[encoded data removed]",
            "text/plain": [
              "<Figure size 432x288 with 1 Axes>"
            ]
          },
          "metadata": {
            "tags": [],
            "needs_background": "light"
          }
        }
      ]
    },
    {
      "cell_type": "markdown",
      "metadata": {
        "id": "hKaUcNgMi7iX"
      },
      "source": [
        "## Momentum Gradient Descent\n",
        "\n",
        "This section is bonus.\n",
        "\n",
        "One way to improve gradient descent is to use *momentum*.  In momentum gradient descent, the update rule is:\n",
        "\n",
        "    f, fgrad = feval(w,...)\n",
        "    z = beta*z + fgrad\n",
        "    w = w - step*z\n",
        "    \n",
        "This is similar to gradient descent, except that there is a second order term on the gradient.  Implement this algorithm with `beta = 0.99` and `step=1e-3`.   Compare the convergence of the loss function with gradient descent.  "
      ]
    },
    {
      "cell_type": "code",
      "metadata": {
        "id": "S-Rwu-yNi7iX"
      },
      "source": [
        "# TODO\n",
        "nit = 1000\n",
        "step = 1e-3\n",
        "beta = 0.99"
      ],
      "execution_count": null,
      "outputs": []
    },
    {
      "cell_type": "code",
      "metadata": {
        "id": "7g0ef3Hgi7iY"
      },
      "source": [
        "# TODO\n",
        "# plot yhat vs. x"
      ],
      "execution_count": null,
      "outputs": []
    },
    {
      "cell_type": "markdown",
      "metadata": {
        "id": "AkX0KF04i7ia"
      },
      "source": [
        "## Beyond This Lab\n",
        "In this lab, we have just touched at some of the ideas in optimization.  There are several other important algorithms that you can explore:\n",
        "* [Levenberg-Marquardt](https://en.wikipedia.org/wiki/Levenberg%E2%80%93Marquardt_algorithm) method for non-linear least squares\n",
        "* Newton's method\n",
        "* More difficult non-linear least squares problems."
      ]
    },
    {
      "cell_type": "code",
      "metadata": {
        "id": "-Sq4MS_li7ia"
      },
      "source": [
        ""
      ],
      "execution_count": null,
      "outputs": []
    }
  ]
}